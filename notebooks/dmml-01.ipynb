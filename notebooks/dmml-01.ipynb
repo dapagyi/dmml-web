{
  "cells": [
    {
      "cell_type": "markdown",
      "metadata": {},
      "source": [
        "# DMML-01\n",
        "\n",
        "Kurzusinformációk; módszertan; $k$-means algoritmus; `numpy`, `pandas`,\n",
        "`matplotlib`, `seaborn`, `polars` gyakorlás.\n",
        "\n",
        "<strong>Honlap:</strong>\n",
        "<a href=\"https://apagyidavid.web.elte.hu/2025-2026-1/dmml\"\n",
        "target=\"_blank\">apagyidavid.web.elte.hu/2025-2026-1/dmml</a>\n",
        "\n",
        "<a target=\"_blank\" href=\"https://colab.research.google.com/github/dapagyi/dmml-web/blob/gh-pages/notebooks/dmml-01.ipynb\"><img src=\"https://colab.research.google.com/assets/colab-badge.svg\" alt=\"Open In Colab\"/></a>\n",
        "\n",
        "# Módszertani kísérlet\n",
        "\n",
        "Kísérleti jelleggel a következő gyakorlattól kezdve áthelyezzük a\n",
        "hangsúlyt arról, hogy *hogyan* lehet az eszközöket kód szintjén\n",
        "használni, arra, hogy *mit* tudunk, illetve főleg azt *miért* akarjuk\n",
        "megvalósítani velük.\n",
        "\n",
        "Emiatt a feladatok megoldásához szükséges programozási ismeretek\n",
        "elsajátítása a Hallgató feladata. (A gyakorlat anyagai között lesznek\n",
        "példakódok, de minimális időt fogunk szentelni a soronkénti\n",
        "értelmezésükre.)\n",
        "\n",
        "Mihez, illetve kihez tudunk fordulni segítségért? Például a\n",
        "következőkhöz:\n",
        "\n",
        "-   gyakorlati anyagok példakódjai;\n",
        "-   debugger;\n",
        "-   keresők (Google, DuckDuckGo stb.);\n",
        "-   a használt könyvtárak User Guide-jai, dokumentációi;\n",
        "-   LLM-ek (Copilot, ChatGPT stb.); valamint\n",
        "-   *iránymutatásért* egymáshoz; illetve\n",
        "-   bármilyen kérdéssel a gyakorlatvezetőhöz.\n",
        "\n",
        "Ezen a gyakorlaton ennek alapozunk meg: cél, hogy kipróbáljuk a Copilot,\n",
        "a debugger és a dokumentáció használatát.\n",
        "\n",
        "> **AI használata a gyakorlaton**\n",
        ">\n",
        "> Az alapelv az, hogy – megfelelő odafigyeléssel – szabad, sőt\n",
        "> *támogatott* AI alapú eszközöket használni a tanulás, önfejlesztés\n",
        "> eszközeként.\n",
        ">\n",
        "> -   Először próbáljuk meg a feladatokat hagyományos eszközökkel\n",
        ">     megközelíteni.\n",
        "> -   Ne vakon használjuk az LLM-eket, értsük meg a válaszokat,\n",
        ">     győződjünk meg azok helyességéről (szemantikailag helyes-e, nem\n",
        ">     elavult-e véletlenül). Vegyük észe, és javítsuk ki a hibákat.\n",
        "> -   Használhatjuk ötletelésre, inspirációgyűjtésre, forráskeresésre\n",
        ">     is.\n",
        "\n",
        "# $k$-means algoritmus\n",
        "\n",
        "## Emlékeztető\n",
        "\n",
        "<figure>\n",
        "<img\n",
        "src=\"https://apagyidavid.web.elte.hu/2025-2026-1/dmml/static/k-means.png\"\n",
        "alt=\"A k-means algoritmus lépései\" />\n",
        "<figcaption aria-hidden=\"true\">A k-means algoritmus lépései<a\n",
        "href=\"#fn1\" class=\"footnote-ref\" id=\"fnref1\"\n",
        "role=\"doc-noteref\"><sup>1</sup></a></figcaption>\n",
        "</figure>\n",
        "<section id=\"footnotes\" class=\"footnotes footnotes-end-of-document\"\n",
        "role=\"doc-endnotes\">\n",
        "<hr />\n",
        "<ol>\n",
        "<li id=\"fn1\"><p>Részlet az előadás diáiból.<a href=\"#fnref1\"\n",
        "class=\"footnote-back\" role=\"doc-backlink\">↩︎</a></p></li>\n",
        "</ol>\n",
        "</section>\n",
        "\n",
        "## `numpy` gyakorlás\n",
        "\n",
        "Az alábbi feladatokhoz ahol csak lehet, használj alkalmas `numpy`\n",
        "függvényeket; ciklusok helyett keresd meg és használd a megfelelő\n",
        "vektorizált alternatívákat.\n",
        "\n",
        "Böngészd, használd a dokumentációt:\n",
        "\n",
        "-   <a href=\"https://numpy.org/doc/stable/user/index.html\"\n",
        "    target=\"_blank\">NumPy User Guide</a>\n",
        "-   <a href=\"https://numpy.org/doc/stable/reference/index.html\"\n",
        "    target=\"_blank\">NumPy API Reference</a>"
      ],
      "id": "4dd4cf80-c4dd-4918-adb7-9fbe2b10dce3"
    },
    {
      "cell_type": "code",
      "execution_count": 1,
      "metadata": {},
      "outputs": [],
      "source": [
        "import numpy as np\n",
        "import pandas as pd\n",
        "from sklearn.datasets import make_blobs\n",
        "import matplotlib.pyplot as plt\n",
        "import seaborn as sns\n",
        "import polars as pl"
      ],
      "id": "1141284a"
    },
    {
      "cell_type": "markdown",
      "metadata": {},
      "source": [
        "1.  Írj függvényt, amely a klaszterezendő pontok alapján inicializál\n",
        "    néhány kezdő középpontot a klasztereknek!\n",
        "    -   Mi legyen a stratégia? Nyugodtan válasszuk a legegyszerűbbet,\n",
        "        ami eszünkbe jut.[1]\n",
        "\n",
        "[1] Érdemes tudni, hogy léteznek\n",
        "<a href=\"https://en.wikipedia.org/wiki/K-means%2B%2B\"\n",
        "target=\"_blank\">kifinomultabb módszerek</a> is."
      ],
      "id": "06cd7f09-286a-4f5f-a874-b17968fba667"
    },
    {
      "cell_type": "code",
      "execution_count": 2,
      "metadata": {},
      "outputs": [],
      "source": [
        "def initialize_centroids(points: np.ndarray, n_clusters: int) -> np.ndarray:\n",
        "    \"\"\"Initialize centroids for KMeans clustering.\"\"\"\n",
        "\n",
        "    # TODO: If the points are in an m × n dimensional array,\n",
        "    # the shape of the output should be (n_clusters, n).\n",
        "\n",
        "    raise NotImplementedError()\n",
        "\n",
        "\n",
        "def test_centroid_initialization():\n",
        "    points = np.array([[1, 2], [3, 4], [5, 6], [7, 8], [9, 10]])\n",
        "    k = 3\n",
        "    centroids = initialize_centroids(points, n_clusters=k)\n",
        "\n",
        "    assert centroids.shape[0] == k\n",
        "    assert centroids.shape[1] == points.shape[1]\n",
        "\n",
        "    return \"Success!\"\n",
        "\n",
        "\n",
        "test_centroid_initialization()"
      ],
      "id": "476b0432"
    },
    {
      "cell_type": "markdown",
      "metadata": {},
      "source": [
        "1.  Kódértelmezés: mit csinál az alábbi függvény?\n",
        "    -   Ha nincs ötleted, futtasd le a kommentben lévő példát.\n",
        "    -   Ha kész vagy, tedd olvashatóbbá a kódot. (Függvény neve,\n",
        "        változónevek, type hintek, docstring.)"
      ],
      "id": "0a81e221-f8a5-46fe-ab65-052ab04fbe70"
    },
    {
      "cell_type": "code",
      "execution_count": 3,
      "metadata": {},
      "outputs": [],
      "source": [
        "def foo_bar(p, c):\n",
        "    \"\"\"Darth Vader\"\"\"\n",
        "\n",
        "    whatever = np.linalg.norm(p[:, np.newaxis] - c, axis=2)\n",
        "    return whatever\n",
        "\n",
        "\n",
        "# p = np.array([[1, 2], [3, 4], [5, 6]])\n",
        "# c = np.array([[2, 2], [6, 6]])\n",
        "# print(foo_bar(p, c))"
      ],
      "id": "6049088b"
    },
    {
      "cell_type": "markdown",
      "metadata": {},
      "source": [
        "1.  Írj függvényt, amely a pontokat hozzárendeli a legközelebbi\n",
        "    középponthoz!\n",
        "    -   A függvény az inputként megadott pontok számával azonos\n",
        "        hosszúságú array-jel térjen vissza; minden pont esetén a hozzá\n",
        "        legközelebbi középpont *indexével*."
      ],
      "id": "2964e9d8-bd77-49aa-b80a-941fef4d4345"
    },
    {
      "cell_type": "code",
      "execution_count": 4,
      "metadata": {},
      "outputs": [],
      "source": [
        "def closest_centroids(points: np.ndarray, centroids: np.ndarray) -> np.ndarray:\n",
        "    \"\"\"Assign each point to the closest centroid.\"\"\"\n",
        "\n",
        "    # TODO: The result should be a 1D array where each element represents\n",
        "    # the index of the closest centroid for the corresponding point.\n",
        "\n",
        "    raise NotImplementedError()\n",
        "\n",
        "\n",
        "# Example usage\n",
        "points = np.array([[1, 2], [3, 4], [5, 6], [7, 8], [9, 10]])\n",
        "centroids = np.array([[2, 2], [6, 6]])\n",
        "print(closest_centroids(points, centroids))"
      ],
      "id": "036aa029"
    },
    {
      "cell_type": "markdown",
      "metadata": {},
      "source": [
        "1.  Az előzőek felhasználásával valósítsd meg az alábbi függvényt:"
      ],
      "id": "d0d694cf-e979-484e-8fff-6507ef296fa6"
    },
    {
      "cell_type": "code",
      "execution_count": 5,
      "metadata": {},
      "outputs": [],
      "source": [
        "def calculate_new_centroids(X: np.ndarray, labels: np.ndarray, n_clusters: int) -> np.ndarray:\n",
        "    # TODO. (Hint: use a list comprehension.)\n",
        "    raise NotImplementedError()\n",
        "\n",
        "# TODO: Example usage"
      ],
      "id": "e1214d5c"
    },
    {
      "cell_type": "markdown",
      "metadata": {},
      "source": [
        "1.  Az előbbi függvények felhasználásával készítsd el az algoritmust!\n",
        "    -   Építs be leállási feltételként maximális iterációszámot\n",
        "        (`max_iterations`), illetve egy küszöbértéket is (`tol`). Ha a\n",
        "        klaszterek középpontjai már csak összességében az előbbi\n",
        "        értéknél kisebb mértékben mozdulnak el, leállunk."
      ],
      "id": "c3a2df07-1c64-4354-8f3b-efebf338768a"
    },
    {
      "cell_type": "code",
      "execution_count": 6,
      "metadata": {},
      "outputs": [],
      "source": [
        "class KMeans:\n",
        "    def __init__(\n",
        "        self,\n",
        "        n_clusters: int,\n",
        "        max_iterations: int = 20,\n",
        "        tol: float = 1e-3,\n",
        "    ):\n",
        "        self.n_clusters = n_clusters\n",
        "        self.max_iterations = max_iterations\n",
        "        self.tol = tol\n",
        "\n",
        "    def fit(self, X: np.ndarray):\n",
        "        self.centroids = initialize_centroids(X, self.n_clusters)\n",
        "\n",
        "        for _ in range(self.max_iterations):\n",
        "            # TODO: Use the previously implemented functions to run the k-means algorithm on X.\n",
        "            # (X is just an array of points, as before.)\n",
        "            raise NotImplementedError()\n",
        "\n",
        "    def fit_predict(self, X: np.ndarray) -> np.ndarray:\n",
        "        self.fit(X)\n",
        "        return self._labels\n",
        "\n",
        "\n",
        "# TODO: Example usage\n",
        "kmeans = KMeans(2)\n",
        "X = np.array([[1, 2], [3, 4], [5, 6], [7, 8], [9, 10]])\n",
        "kmeans.fit(X)\n",
        "print(kmeans._labels)"
      ],
      "id": "b374b987"
    },
    {
      "cell_type": "code",
      "execution_count": 7,
      "metadata": {},
      "outputs": [],
      "source": [
        "random_state = 0\n",
        "np.random.seed(random_state)\n",
        "\n",
        "n_samples = 1500\n",
        "X, y = make_blobs(n_samples=n_samples, cluster_std=[1.0, 2.5, 0.5], random_state=random_state)\n",
        "fig, (ax1, ax2) = plt.subplots(1, 2, figsize=(12, 6))\n",
        "ax1.scatter(X[:, 0], X[:, 1], c=y)\n",
        "\n",
        "y_pred = KMeans(n_clusters=3).fit_predict(X)\n",
        "ax2.scatter(X[:, 0], X[:, 1], c=y_pred)\n",
        "plt.show()"
      ],
      "id": "98f34120"
    },
    {
      "cell_type": "markdown",
      "metadata": {},
      "source": [
        "1.  Biztosak vagyunk, hogy minden esetben megfelelően működik a kódunk?\n",
        "    Mikor dobhat mégis kivételt a kód?\n",
        "\n",
        "> **Segítség #1: Mi okozhat problémát?**\n",
        ">\n",
        "> <a\n",
        "> href=\"https://user.ceng.metu.edu.tr/~tcan/ceng465_f1314/Schedule/KMeansEmpty.html\"\n",
        "> target=\"_blank\">Lásd ezen a linken.</a>\n",
        "\n",
        "> **Segítség #2: Hol lenne érdemes módosítani a meglévő kódot?**\n",
        ">\n",
        "> Módosítsuk a `calculate_new_centroids` függvényt, hogy kezelje a fenti\n",
        "> esetet. <a\n",
        "> href=\"https://stackoverflow.com/questions/11075272/k-means-empty-cluster\"\n",
        "> target=\"_blank\">Sokféle ötlet, heurisztika alkalmazása lehetséges.</a>\n",
        "\n",
        "# `pandas` gyakorlás\n",
        "\n",
        "> **Ha egy kicsit is haladóbbnak érzed magad…**\n",
        ">\n",
        "> Ha egy kicsit is haladóbbnak érzed magad, nyugodtan ugorj a\n",
        "> <a href=\"#polars-gyakorlás\">`polars` gyakorlás</a> szakaszra.\n",
        "\n",
        "A félév során sokat fogunk zsonglőrködni tabuláris adatokkal, ezért\n",
        "szükséges némi jártasság a `pandas` (vagy a `polars`) csomag terén.\n",
        "\n",
        "Idézzük fel az idevonatkozó ismereteinket, és válaszoljunk meg néhány\n",
        "alapvető kérdést a Titanic adathalmazról."
      ],
      "id": "964bc2e9-3af2-4903-96ce-47b576ba73b7"
    },
    {
      "cell_type": "code",
      "execution_count": 8,
      "metadata": {},
      "outputs": [
        {
          "output_type": "stream",
          "name": "stdout",
          "text": [
            "Shape: (891, 12)"
          ]
        },
        {
          "output_type": "display_data",
          "metadata": {},
          "data": {
            "text/html": [
              "\n",
              "</div>"
            ]
          }
        }
      ],
      "source": [
        "df = pd.read_csv(\"https://apagyidavid.web.elte.hu/2025-2026-1/dmml/data/titanic.csv\")\n",
        "df.rename(columns={\"Parch\": \"ParCh\"}, inplace=True)\n",
        "print(f\"Shape: {df.shape}\")\n",
        "df.head()"
      ],
      "id": "35655b3b"
    },
    {
      "cell_type": "markdown",
      "metadata": {},
      "source": [
        "1.  Próbáljuk meg kitalálni az egyes oszlopok jelentéseit.\n",
        "    <a href=\"https://www.kaggle.com/c/titanic/data\" target=\"_blank\">Ezen az\n",
        "    oldalon</a> elérhető egy leírás az adathalmazról.\n",
        "    -   Mik az egyes oszlopokban lévő adatok típusai? Van-e olyan, ami\n",
        "        furcsa?"
      ],
      "id": "311e87a4-9837-4c67-b44b-eb0dd90c6f7f"
    },
    {
      "cell_type": "code",
      "execution_count": 9,
      "metadata": {},
      "outputs": [],
      "source": [
        "# TODO"
      ],
      "id": "9a570227"
    },
    {
      "cell_type": "markdown",
      "metadata": {},
      "source": [
        "1.  Hány érték hiányzik az egyes oszlopokból?\n",
        "    -   `matplotlib` segítségével vizualizáljuk oszloponként a hiányzó\n",
        "        értékek arányát az összes sorhoz képest\n",
        "        (<a href=\"https://matplotlib.org/\"\n",
        "        target=\"_blank\"><code>matplotlib</code> dokumentáció</a>)."
      ],
      "id": "6c964431-d8c1-4d26-9d17-3f86bdf13fc7"
    },
    {
      "cell_type": "code",
      "execution_count": 10,
      "metadata": {},
      "outputs": [],
      "source": [
        "# TODO"
      ],
      "id": "32d72a3c"
    },
    {
      "cell_type": "markdown",
      "metadata": {},
      "source": [
        "1.  Listázzuk a numerikus oszlopok *leíró statisztikáit*.\n",
        "    -   Mely oszlopok esetén van ennek egyáltalán értelme? Módosítsuk a\n",
        "        kódunkat, hogy csak értelme esetekben számoljunk statisztikákat.\n",
        "    -   Vizualizáljuk az előbbi értékek eloszlását `seaborn`\n",
        "        segítségével (<a href=\"https://seaborn.pydata.org/\"\n",
        "        target=\"_blank\"><code>seaborn</code> dokumentáció</a>). (Ez csak\n",
        "        egy “wrapper” a `matplotlib` felett.)"
      ],
      "id": "6037d6a4-413f-4934-bf20-2f78966c55b8"
    },
    {
      "cell_type": "code",
      "execution_count": 11,
      "metadata": {},
      "outputs": [],
      "source": [
        "# TODO"
      ],
      "id": "420b1e2c"
    },
    {
      "cell_type": "markdown",
      "metadata": {},
      "source": [
        "1.  Vizualizáljuk nemenként az életkor feltételes eloszlását.\n",
        "\n",
        "> **Segítség**\n",
        ">\n",
        "> Használjuk a `groupby` és `hist` függvényeket a `pandas`\n",
        "> `DateFrame`-re alkalmazva."
      ],
      "id": "977164ca-a86f-4fb5-8b01-adb1631f5fb1"
    },
    {
      "cell_type": "code",
      "execution_count": 12,
      "metadata": {},
      "outputs": [],
      "source": [
        "# TODO"
      ],
      "id": "c78a7e49"
    },
    {
      "cell_type": "markdown",
      "metadata": {},
      "source": [
        "# `polars` gyakorlás\n",
        "\n",
        "Az elmúlt néhány évben egyre felkapottabbá váltak a Rust alapú eszközök\n",
        "a “Python ecosystem”-ben. Az `uv` és a `ruff` két olyan eszköz,\n",
        "amelyeket szinte minden új projektnél érdemes lehet használni:\n",
        "\n",
        "-   előbbi egy package és project manager\n",
        "    (<a href=\"https://docs.astral.sh/uv/\" target=\"_blank\"><code>uv</code>\n",
        "    dokumentáció</a>);\n",
        "-   utóbbi pedig egy linter, formatter\n",
        "    (<a href=\"https://docs.astral.sh/ruff/\" target=\"_blank\"><code>ruff</code>\n",
        "    dokumentáció</a>).\n",
        "\n",
        "Mindkettő ugyanannak a cégnek a terméke, nyílt forráskodúak, viszont a\n",
        "licenszük aggaszt néhányakat.\n",
        "\n",
        "A `polars` egy gyorsan fejlődő `pandas` alternatíva\n",
        "(<a href=\"https://docs.pola.rs/\" target=\"_blank\"><code>polars</code>\n",
        "dokumentáció</a>).\n",
        "\n",
        "> **`polars` key features**\n",
        ">\n",
        "> -   “**Fast:** Written from scratch in Rust, designed close to the\n",
        ">     machine and without external dependencies.  \n",
        "> -   **I/O:** First class support for all common data storage layers:\n",
        ">     local, cloud storage & databases.  \n",
        "> -   **Intuitive API:** Write your queries the way they were intended.\n",
        ">     Polars, internally, will determine the most efficient way to\n",
        ">     execute using its query optimizer.  \n",
        "> -   **Out of Core:** The streaming API allows you to process your\n",
        ">     results without requiring all your data to be in memory at the\n",
        ">     same time.  \n",
        "> -   **Parallel:** Utilises the power of your machine by dividing the\n",
        ">     workload among the available CPU cores without any additional\n",
        ">     configuration.  \n",
        "> -   **Vectorized Query Engine**  \n",
        "> -   **GPU Support:** Optionally run queries on NVIDIA GPUs for maximum\n",
        ">     performance for in-memory workloads.  \n",
        "> -   **Apache Arrow support:** Polars can consume and produce Arrow\n",
        ">     data often with zero-copy operations. Note that Polars is not\n",
        ">     built on a Pyarrow/Arrow implementation. Instead, Polars has its\n",
        ">     own compute and buffer implementations.”\n",
        ">\n",
        "> (Részlet a dokumentációból.)\n",
        "\n",
        "Valószínűleg `pandas` alapok unalomig voltak már más órákon. Nagyon\n",
        "sokan a `polars`-ban látják a jövőt, azonban (főleg az elérhető anyagok,\n",
        "LLM-támogatottság szempontjából) az átállás – pláne akadémiai közegben –\n",
        "lassú és fáradságos. *Tegyünk azért a jobb világért!*\n",
        "\n",
        "1.  Böngésszük egy kicsit a dokumentációt, majd oldjuk meg az előző\n",
        "    szakaszban lévő feladatokat `polars` segítségével."
      ],
      "id": "eaa48472-7e93-45e2-9e9b-10b49082ca9a"
    },
    {
      "cell_type": "code",
      "execution_count": 13,
      "metadata": {},
      "outputs": [],
      "source": [
        "# TODO"
      ],
      "id": "23b0023f"
    }
  ],
  "nbformat": 4,
  "nbformat_minor": 5,
  "metadata": {
    "kernelspec": {
      "name": "python3",
      "display_name": "Python 3 (ipykernel)",
      "language": "python",
      "path": "/home/runner/work/dmml-web/dmml-web/.venv/share/jupyter/kernels/python3"
    },
    "language_info": {
      "name": "python",
      "codemirror_mode": {
        "name": "ipython",
        "version": "3"
      },
      "file_extension": ".py",
      "mimetype": "text/x-python",
      "nbconvert_exporter": "python",
      "pygments_lexer": "ipython3",
      "version": "3.13.8"
    }
  }
}