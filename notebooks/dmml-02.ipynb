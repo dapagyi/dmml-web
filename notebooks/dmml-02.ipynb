{
  "cells": [
    {
      "cell_type": "markdown",
      "metadata": {},
      "source": [
        "# DMML-02\n",
        "\n",
        "Fejlesztői környezet; további EDA módszerek; naiv hipotézisvizsgálat;\n",
        "adatelőkészítés, -feldolgozás.\n",
        "\n",
        "<strong>Honlap:</strong>\n",
        "<a href=\"https://apagyidavid.web.elte.hu/2025-2026-1/dmml\"\n",
        "target=\"_blank\">apagyidavid.web.elte.hu/2025-2026-1/dmml</a>\n",
        "\n",
        "<a target=\"_blank\" href=\"https://colab.research.google.com/github/dapagyi/dmml-web/blob/gh-pages/notebooks/dmml-02.ipynb\"><img src=\"https://colab.research.google.com/assets/colab-badge.svg\" alt=\"Open In Colab\"/></a>\n",
        "\n",
        "# Ajánlott fejlesztői környezet\n",
        "\n",
        "Én ezeket használom, ajánlom:\n",
        "\n",
        "-   WSL2 (Windows Subsystem for Linux), Debian\n",
        "-   uv (package and project management)\n",
        "-   VS Code, Copilot\n",
        "\n",
        "Ezek közül legalább a VS Code és az uv telepítését erősen javaslom. (A\n",
        "WSL2 mellőzhető, a Copilot pedig integrálva van a VS Code-ba.)\n",
        "\n",
        "Néhány hasznos link ezekhez:\n",
        "\n",
        "-   [How to install Linux on Windows with\n",
        "    WSL](https://learn.microsoft.com/en-us/windows/wsl/install)\n",
        "-   [Remote development in\n",
        "    WSL](https://code.visualstudio.com/docs/remote/wsl-tutorial)\n",
        "-   [Developing in WSL](https://code.visualstudio.com/docs/remote/wsl)\n",
        "-   [uv](https://docs.astral.sh/uv/)\n",
        "-   [Jupyter Notebooks in VS\n",
        "    Code](https://code.visualstudio.com/docs/datascience/jupyter-notebooks)\n",
        "-   [Python debugging in VS\n",
        "    Code](https://code.visualstudio.com/docs/python/debugging)\n",
        "-   [GitHub Copilot in VS\n",
        "    Code](https://code.visualstudio.com/docs/copilot/overview)\n",
        "\n",
        "A legutolsó link elég jól szemlélteti, hogy miért érdemes ezek\n",
        "beállításába egy kevés energiát fektetni.\n",
        "\n",
        "# További EDA módszerek\n",
        "\n",
        "*Előzmény:* előző óra (`pandas` gyakorlás és megoldások).\n",
        "\n",
        "Néhány további EDA, azaz *Exploratory Data Analysis* (“feltáró\n",
        "adatelemzés” (?)) módszert fogunk alkalmazni a Titanic adathalmazon."
      ],
      "id": "6826cd9b-3a7a-482d-9109-fbfd0a3fb0ad"
    },
    {
      "cell_type": "code",
      "execution_count": 1,
      "metadata": {},
      "outputs": [
        {
          "output_type": "display_data",
          "metadata": {},
          "data": {
            "text/html": [
              "\n",
              "</div>"
            ]
          }
        }
      ],
      "source": [
        "import numpy as np\n",
        "import pandas as pd\n",
        "import matplotlib.pyplot as plt\n",
        "\n",
        "df = pd.read_csv(\"https://apagyidavid.web.elte.hu/2025-2026-1/dmml/data/titanic.csv\")\n",
        "df = df.rename({\"Parch\": \"ParCh\"})\n",
        "df.head()"
      ],
      "id": "ea1b3692"
    },
    {
      "cell_type": "markdown",
      "metadata": {},
      "source": [
        "## Kategorikus változók, további hasznos `pandas` funkciók\n",
        "\n",
        "A `Cabin` oszlopról hasznos információk érhetők el [ebben az\n",
        "elemzésben](https://www.kaggle.com/code/gunesevitan/titanic-advanced-feature-engineering-tutorial?scriptVersionId=27280410&cellId=22)\n",
        "(1.2.4 szakasz):"
      ],
      "id": "c182370a-f8a9-43cf-9ac5-63e21dc8cc48"
    },
    {
      "cell_type": "raw",
      "metadata": {
        "raw_mimetype": "text/html"
      },
      "source": [
        "<iframe src=\"https://www.kaggle.com/embed/gunesevitan/titanic-advanced-feature-engineering-tutorial?cellId=22&amp;cellIds=22&amp;kernelSessionId=27280410\" height=\"300\" style=\"margin: 0 auto; width: 100%; max-width: 950px;\" frameborder=\"0\" scrolling=\"auto\" title=\"Titanic - Advanced Feature Engineering Tutorial\">"
      ],
      "id": "0280a6a4-a63a-4bc6-89dc-9fbe9ede3f62"
    },
    {
      "cell_type": "raw",
      "metadata": {
        "raw_mimetype": "text/html"
      },
      "source": [
        "</iframe>"
      ],
      "id": "0ae308b4-7dc5-477d-9446-c991da4ad43d"
    },
    {
      "cell_type": "markdown",
      "metadata": {},
      "source": [
        "Contingency table (cross tabulation, crosstab; magyarul leginkább\n",
        "kontingenciatáblázat/-tábla):"
      ],
      "id": "ec68ff5d-70da-4a1a-afc4-3a57e5ac69f3"
    },
    {
      "cell_type": "code",
      "execution_count": 2,
      "metadata": {},
      "outputs": [
        {
          "output_type": "display_data",
          "metadata": {},
          "data": {
            "text/html": [
              "\n",
              "</div>"
            ]
          }
        }
      ],
      "source": [
        "pd.crosstab(df[\"Sex\"] ,df[\"Pclass\"], values=df[\"Fare\"], aggfunc=\"mean\")"
      ],
      "id": "0464ed19"
    },
    {
      "cell_type": "markdown",
      "metadata": {},
      "source": [
        "Pivottal ugyanez:"
      ],
      "id": "cf94e4e9-fa05-4bad-a631-9cb36b768be0"
    },
    {
      "cell_type": "code",
      "execution_count": 3,
      "metadata": {},
      "outputs": [
        {
          "output_type": "display_data",
          "metadata": {},
          "data": {
            "text/html": [
              "\n",
              "</div>"
            ]
          }
        }
      ],
      "source": [
        "pd.pivot_table(df, index=[\"Sex\"], columns=[\"Pclass\"], values=\"Fare\", aggfunc=\"mean\")"
      ],
      "id": "0ea7429c"
    },
    {
      "cell_type": "markdown",
      "metadata": {},
      "source": [
        "Ha szükségünk van egy egyszerű – de nem túl szép – vizualizációra, akkor\n",
        "közvetlenül `pandas`-szal gyorsan készíthetünk egy ábrát (valójában a\n",
        "`matplotlib`-et használja a háttérben):"
      ],
      "id": "dd3f9fbd-db59-4170-9978-ccdee4aef197"
    },
    {
      "cell_type": "code",
      "execution_count": 4,
      "metadata": {},
      "outputs": [
        {
          "output_type": "display_data",
          "metadata": {},
          "data": {
            "image/png": "[encoded data removed]"
          }
        }
      ],
      "source": [
        "df.groupby(\"Sex\")[\"Pclass\"].value_counts().unstack().plot.bar(legend=True, figsize=(10, 8))"
      ],
      "id": "79547ff7"
    },
    {
      "cell_type": "markdown",
      "metadata": {},
      "source": [
        "# Hipotézisvizsgálat\n",
        "\n",
        "Gyakran hangoztatott nézet, hogy először a *nőket és a gyerekeket*\n",
        "mentették ki a katasztrófa során. Egy másik gyakori megállapítás szokott\n",
        "lenni az, hogy az *első osztályon utazó vendégek* előnyt élveztek a\n",
        "mentés során.\n",
        "\n",
        "Hipotézisvizsgálat formálisan a matematikai statisztika tárgyon lesz, mi\n",
        "most csak naivan próbálunk meg feltárni hasonló összefüggéseket.\n",
        "\n",
        "Fogalmazzunk meg és teszteljünk néhány hipotézist a túlélésre\n",
        "vonatkozóan!\n",
        "\n",
        "-   *1. hipotézis:* A nők előnyt élveztek a kimentés során, de azon\n",
        "    belül is az első osztályon utazó hölgyek.\n",
        "-   *2. hipotézis:* A túléléssel leginkább korreláló numerikus változó a\n",
        "    kor.\n",
        "\n",
        "Próbáljuk meg megválaszolni a kérdéseket!\n",
        "\n",
        "## 1. hipotézis: első osztályon utazó hölgyek\n",
        "\n",
        "Érdemes ellenőrizni, hogy mekkora létszámokról van szó, ugyanis ha\n",
        "például nagyon kis elemszámú valamelyik vizsgált kategória, akkor nem\n",
        "biztos, hogy van értelme egyáltalán a kérdésfelvetésnek."
      ],
      "id": "6c622214-a2f3-404b-8dad-0b65fb061eed"
    },
    {
      "cell_type": "code",
      "execution_count": 5,
      "metadata": {},
      "outputs": [
        {
          "output_type": "display_data",
          "metadata": {},
          "data": {
            "text/html": [
              "\n",
              "</div>"
            ]
          }
        }
      ],
      "source": [
        "df.pivot_table(index=[\"Sex\"], columns=[\"Pclass\"], values=\"Survived\", aggfunc=\"count\", margins=True)"
      ],
      "id": "98770c7a"
    },
    {
      "cell_type": "markdown",
      "metadata": {},
      "source": [
        "Nincs túl kevés adat egyik kategóriában sem, tehát érdemes tovább\n",
        "vizsgálódni."
      ],
      "id": "2fb6f90d-e8b8-49a0-8599-6b25653b935e"
    },
    {
      "cell_type": "code",
      "execution_count": 6,
      "metadata": {},
      "outputs": [
        {
          "output_type": "display_data",
          "metadata": {},
          "data": {
            "text/html": [
              "\n",
              "</div>"
            ]
          }
        }
      ],
      "source": [
        "df.pivot_table(index=[\"Sex\"], columns=[\"Pclass\"], values=\"Survived\", aggfunc=\"mean\", margins=True)"
      ],
      "id": "5c0329ac"
    },
    {
      "cell_type": "markdown",
      "metadata": {},
      "source": [
        "A fenti táblázatból több kézenfekvő megállapítás adódik:\n",
        "\n",
        "-   A nők túlélési aránya 74.2%, a férfiaké 18.9%. (Az összes utasra\n",
        "    vonatkoztatva 38.4% ez az érték).\n",
        "-   Az első és második osztályon utazó nők túlélési aránya 96.8% és\n",
        "    92.1%, a harmadik osztályon utazóké 50%.\n",
        "-   A férfiak esetében is igaz az, hogy a magasabb osztályon utazók\n",
        "    túlélési aránya nagyobb.\n",
        "\n",
        "Ezek a megállapítások alátámasztják az 1. hipotézist.\n",
        "\n",
        "> **Precízebb vizsgálat**\n",
        ">\n",
        "> Ha matematikailag korrektebb megállapításokat szeretnénk tenni, akkor\n",
        "> statisztikai teszteket kell végeznünk. Néhány Wikipedia szócikk\n",
        "> iránymutatásképpen:\n",
        ">\n",
        "> -   [Statistical hypothesis\n",
        ">     test](https://en.wikipedia.org/wiki/Statistical_hypothesis_test)\n",
        "> -   [Chi-squared test](https://en.wikipedia.org/wiki/Chi-squared_test)\n",
        "> -   [Fisher’s exact\n",
        ">     test](https://en.wikipedia.org/wiki/Fisher%27s_exact_test)\n",
        "> -   [Category:Statistical tests for contingency\n",
        ">     tables](https://en.wikipedia.org/wiki/Category:Statistical_tests_for_contingency_tables)\n",
        "> -   [Category:Statistical\n",
        ">     tests](https://en.wikipedia.org/wiki/Category:Statistical_tests)\n",
        "\n",
        "## 2. hipotézis: kor\n",
        "\n",
        "Vizsgáljuk meg a kor eloszlását a túléltek és az elhunytak között!"
      ],
      "id": "1a01f943-a710-42af-a729-b6e16120dc1c"
    },
    {
      "cell_type": "code",
      "execution_count": 7,
      "metadata": {},
      "outputs": [
        {
          "output_type": "display_data",
          "metadata": {},
          "data": {
            "image/png": "[encoded data removed]"
          }
        }
      ],
      "source": [
        "df.boxplot(column=\"Age\", by=\"Survived\", figsize=(8, 6))"
      ],
      "id": "7fd339b4"
    },
    {
      "cell_type": "code",
      "execution_count": 8,
      "metadata": {},
      "outputs": [
        {
          "output_type": "display_data",
          "metadata": {},
          "data": {
            "text/html": [
              "\n",
              "</div>"
            ]
          }
        }
      ],
      "source": [
        "df[\"Age\"].groupby(df[\"Survived\"]).describe()"
      ],
      "id": "67b12ecb"
    },
    {
      "cell_type": "code",
      "execution_count": 9,
      "metadata": {},
      "outputs": [
        {
          "output_type": "display_data",
          "metadata": {},
          "data": {
            "text/plain": [
              "array([<Axes: title={'center': '0'}>, <Axes: title={'center': '1'}>],\n",
              "      dtype=object)"
            ]
          }
        },
        {
          "output_type": "display_data",
          "metadata": {},
          "data": {
            "image/png": "[encoded data removed]"
          }
        }
      ],
      "source": [
        "df.hist(column=\"Age\", by=\"Survived\", figsize=(8, 6), bins=20)"
      ],
      "id": "91f32be7"
    },
    {
      "cell_type": "markdown",
      "metadata": {},
      "source": [
        "A fenti ábrák alapján elmondható, hogy a túlélők között valamivel több a\n",
        "fiatalabb korú személy, de a különbség nem túl szembetűnő.\n",
        "\n",
        "Korreláció (numerikus változókra között + plot):"
      ],
      "id": "02b677a9-1e34-43e0-bad8-5574252040a0"
    },
    {
      "cell_type": "code",
      "execution_count": 10,
      "metadata": {},
      "outputs": [
        {
          "output_type": "display_data",
          "metadata": {},
          "data": {
            "text/plain": [
              "PassengerId   -0.005007\n",
              "Survived       1.000000\n",
              "Pclass        -0.338481\n",
              "Age           -0.077221\n",
              "SibSp         -0.035322\n",
              "Parch          0.081629\n",
              "Fare           0.257307\n",
              "Name: Survived, dtype: float64"
            ]
          }
        },
        {
          "output_type": "display_data",
          "metadata": {},
          "data": {
            "image/png": "[encoded data removed]"
          }
        }
      ],
      "source": [
        "display(df.select_dtypes(\"number\").corr()[\"Survived\"])\n",
        "\n",
        "df.select_dtypes(\"number\").corr()[\"Survived\"].plot(kind=\"bar\", figsize=(8, 6))"
      ],
      "id": "003a7d30"
    },
    {
      "cell_type": "markdown",
      "metadata": {},
      "source": [
        "A `Survived` oszloppal leginkább korreláló numerikus feature-ök a\n",
        "`Pclass` (-0.34) és a `Fare` (0.26). Tehát minél magasabb osztályon\n",
        "utazott valaki, annál nagyobb a megmenekülésének valószínűsége (a nemtől\n",
        "függetlenül, lásd 1. hipotézis).\n",
        "\n",
        "Nem várható, hogy mentéskor a jegy árát kérdezgették az emberektől. Ez a\n",
        "klasszikus rejtett vagy harmadik változó esete: a vizsgált (független)\n",
        "változó és a célváltozó (függő változó) között van egy harmadik\n",
        "(rejtett) változó, amely a korrelációt okozza. Jelen esetben ezt\n",
        "tudhatjuk is, a jegyár nyilvánvalóan az utas osztály függvénye:"
      ],
      "id": "3537648e-0484-4dd4-89cb-5d3cd79f9955"
    },
    {
      "cell_type": "code",
      "execution_count": 11,
      "metadata": {},
      "outputs": [
        {
          "output_type": "display_data",
          "metadata": {},
          "data": {
            "text/plain": [
              "np.float64(-0.5494996199439074)"
            ]
          }
        }
      ],
      "source": [
        "df[\"Fare\"].corr(df[\"Pclass\"])"
      ],
      "id": "dda1755b"
    },
    {
      "cell_type": "markdown",
      "metadata": {},
      "source": [
        "## Gyakorlás\n",
        "\n",
        "Az elemzés során használj minél többféle órán látott módszert. Nézz\n",
        "utána, milyen beállításokkal tudod még jobban kihasználni a `pandas`\n",
        "(vagy `polars`) adta lehetőségeket.\n",
        "\n",
        "1.  Vizsgáld meg egy (órán eddig nem vizsgált) kategorikus és egy\n",
        "    folytonos, numerikus változó eloszlását, és ábrázold is egy\n",
        "    megfelelő diagramon."
      ],
      "id": "c2111c35-3d0c-402f-a668-0dcc76b2bca2"
    },
    {
      "cell_type": "code",
      "execution_count": 12,
      "metadata": {},
      "outputs": [],
      "source": [
        "# TODO"
      ],
      "id": "604c8603"
    },
    {
      "cell_type": "markdown",
      "metadata": {},
      "source": [
        "1.  Hogyan hat a túlélés valószínűségére, ha egy családtagod utazott\n",
        "    veled együtt (`SibSp` és `ParCh` oszlopok)? Fogalmazz meg előre egy\n",
        "    hipotézist, és próbáld meg ellenőrizni. A kapott eredményhez készíts\n",
        "    megfelelő vizualizációt és számolj statisztikákat. Mennyire tartod\n",
        "    meglepőnek az eredményt? Mit gondolsz, ha kettő helyett négy\n",
        "    oszlopunk lenne, külön a testvéreknek, házastársnak, szülőnek és\n",
        "    gyereknek, hasonló eredményre jutnánk?"
      ],
      "id": "982e9078-198f-4098-ba14-cec603d5ef19"
    },
    {
      "cell_type": "code",
      "execution_count": 13,
      "metadata": {},
      "outputs": [],
      "source": [
        "# TODO"
      ],
      "id": "ddb7f97d"
    },
    {
      "cell_type": "markdown",
      "metadata": {},
      "source": [
        "1.  A `.query()` metódussal a sorokra lehet szűrni. Próbáld meg\n",
        "    megérteni, jellemezni néhány grafikon segítségével a harmadosztályú\n",
        "    utasokat."
      ],
      "id": "36aac9e1-e761-43dd-a3ed-1c70e7341281"
    },
    {
      "cell_type": "code",
      "execution_count": 14,
      "metadata": {},
      "outputs": [],
      "source": [
        "# TODO"
      ],
      "id": "6c212020"
    },
    {
      "cell_type": "markdown",
      "metadata": {},
      "source": [
        "1.  Válassz egy oszlopot, pl. `Age` és vedd a `df[\"Age\"]` `pd.Series`-t.\n",
        "    Milyen műveleteket tudsz rajta elvégezni, amiket már egy\n",
        "    `np.array`-en megszoktál? Meg tudod szorozni, tudod venni az\n",
        "    átlagát, stb.? Találsz olyan műveletet, amit csak ezen lehet? És\n",
        "    olyat, amit csak egy `np.array`-jel tudtál megcsinálni? Mi van, ha\n",
        "    két oszlopot veszel, pl. `df[[\"Age\", \"Pclass\"]]`? Mennyire\n",
        "    viselkedik ez a típusú objektum egy többdimenziós `np.array`-hez\n",
        "    hasonlóan?"
      ],
      "id": "b1cd13c8-48c2-46d3-ab42-835872c1c842"
    },
    {
      "cell_type": "code",
      "execution_count": 15,
      "metadata": {},
      "outputs": [],
      "source": [
        "# TODO"
      ],
      "id": "27209846"
    },
    {
      "cell_type": "markdown",
      "metadata": {},
      "source": [
        "1.  Az alábbi művelet kilistázza azon utasokat, akiknek nem került\n",
        "    semmibe a jegye:\n",
        "\n",
        "``` python\n",
        "df.query(\"Fare == 0\")\n",
        "```\n",
        "\n",
        "Vizsgáld meg, hogy lehet-e ennek valami értelmes magyarázata, vagy\n",
        "ezeket hibás (kiugró) értékekként kell kezelnünk. Pl. gyerek, és ezért\n",
        "utazik ingyen, vagy valami családtaggal stb."
      ],
      "id": "d786cb1c-6c34-46b9-a542-aeb404bde91d"
    },
    {
      "cell_type": "code",
      "execution_count": 16,
      "metadata": {},
      "outputs": [],
      "source": [
        "# TODO"
      ],
      "id": "147d0589"
    },
    {
      "cell_type": "markdown",
      "metadata": {},
      "source": [
        "# Adatelőkészítés, -feldologzás\n",
        "\n",
        "-   [Kategorikus\n",
        "    változók](https://en.wikipedia.org/wiki/Categorical_variable)\n",
        "-   [Scikit-learn,\n",
        "    preprocessing](https://scikit-learn.org/stable/modules/classes.html#module-sklearn.preprocessing)\n",
        "-   [Towards Data\n",
        "    Science](https://towardsdatascience.com/categorical-feature-encoding-547707acf4e5#1056)\n",
        "\n",
        "## Encoding\n",
        "\n",
        "A modelleink többsége, amiket tanulni fogunk, numerikus adatokkal tud\n",
        "csak dolgozni. A nem numerikus változók elkódolása (numerikus értékké\n",
        "alakítása, *encoding*) ezért általában szükséges, mielőtt a\n",
        "modellezéssel foglalkoznánk. Modellezzéssel csak a következő órán fogunk\n",
        "foglalkozni, előtte most néhány egyszerűbb technikát tekintünk át.\n",
        "\n",
        "### Numerikus változók\n",
        "\n",
        "-   Binning: folytonos eloszlás diszkrétté tétele\n",
        "-   Binary: egy küszöbértékhez viszonyított érték alapján\n",
        "\n",
        "#### Binning\n",
        "\n",
        "Folytonos változót *vödrökbe* rakjuk. Hívják ezért *grouping*nek és\n",
        "*bucketing*nek is. Pl."
      ],
      "id": "6c202b2d-c38b-46a7-8c59-fd7715074f3a"
    },
    {
      "cell_type": "code",
      "execution_count": 17,
      "metadata": {},
      "outputs": [
        {
          "output_type": "display_data",
          "metadata": {},
          "data": {
            "text/plain": [
              "(16.336, 32.252]    346\n",
              "(32.252, 48.168]    188\n",
              "(0.339, 16.336]     100\n",
              "(48.168, 64.084]     69\n",
              "(64.084, 80.0]       11\n",
              "Name: count, dtype: int64"
            ]
          }
        }
      ],
      "source": [
        "df[\"Age\"].value_counts(bins=5)"
      ],
      "id": "1140373e"
    },
    {
      "cell_type": "code",
      "execution_count": 18,
      "metadata": {},
      "outputs": [
        {
          "output_type": "display_data",
          "metadata": {},
          "data": {
            "text/html": [
              "\n",
              "</div>"
            ]
          }
        }
      ],
      "source": [
        "df[\"AgeBin\"] = pd.cut(df[\"Age\"], bins=[0, 12, 20, 30, 40, 50, 60, 70, 80, 90, 100], right=False)\n",
        "df[[\"Age\", \"AgeBin\"]].head(10)"
      ],
      "id": "9909fdfc"
    },
    {
      "cell_type": "markdown",
      "metadata": {},
      "source": [
        "Akár az `apply` metódust is használhatjuk:"
      ],
      "id": "e14e820c-e9af-41ef-9fa6-09a17dabf133"
    },
    {
      "cell_type": "code",
      "execution_count": 19,
      "metadata": {},
      "outputs": [
        {
          "output_type": "display_data",
          "metadata": {},
          "data": {
            "text/plain": [
              "0    youth\n",
              "1    adult\n",
              "2    youth\n",
              "3    adult\n",
              "4    adult\n",
              "Name: Age, dtype: object"
            ]
          }
        },
        {
          "output_type": "display_data",
          "metadata": {},
          "data": {
            "text/plain": [
              "AgeGroup\n",
              "youth       271\n",
              "adult       256\n",
              "children     99\n",
              "old          74\n",
              "baby         14\n",
              "Name: count, dtype: int64"
            ]
          }
        }
      ],
      "source": [
        "def age_group_mapping(age: int) -> str | None:\n",
        "    if age < 2:\n",
        "        return \"baby\"\n",
        "    if 2 <= age < 18:\n",
        "        return \"children\"\n",
        "    if 18 <= age < 30:\n",
        "        return \"youth\"\n",
        "    if 30 <= age < 50:\n",
        "        return \"adult\"\n",
        "    if 50 <= age:\n",
        "        return \"old\"\n",
        "    return None\n",
        "\n",
        "\n",
        "display(df[\"Age\"].apply(age_group_mapping).head())\n",
        "\n",
        "df[\"AgeGroup\"] = df[\"Age\"].apply(age_group_mapping)\n",
        "df[\"AgeGroup\"].value_counts()"
      ],
      "id": "b5d684da"
    },
    {
      "cell_type": "markdown",
      "metadata": {},
      "source": [
        "Gyors vizualizáció:"
      ],
      "id": "445885e9-4a76-4b83-94ab-2581fe258931"
    },
    {
      "cell_type": "code",
      "execution_count": 20,
      "metadata": {},
      "outputs": [
        {
          "output_type": "display_data",
          "metadata": {},
          "data": {
            "image/png": "[encoded data removed]"
          }
        }
      ],
      "source": [
        "df[\"AgeGroup\"].value_counts().reindex([\"baby\",\"children\",\"youth\",\"adult\",\"old\"]).plot.barh(figsize=(6, 6))"
      ],
      "id": "aeb0480d"
    },
    {
      "cell_type": "code",
      "execution_count": 21,
      "metadata": {},
      "outputs": [
        {
          "output_type": "display_data",
          "metadata": {},
          "data": {
            "image/png": "[encoded data removed]"
          }
        }
      ],
      "source": [
        "df[\"AgeGroup\"].value_counts().reindex([\"baby\",\"children\",\"youth\",\"adult\",\"old\"]).plot.pie(autopct='%.2f%%', cmap=\"Purples\", figsize=(6, 6))"
      ],
      "id": "b8f5f7e6"
    },
    {
      "cell_type": "markdown",
      "metadata": {},
      "source": [
        "> **Kördiagram**\n",
        ">\n",
        "> A kördiagram általában elég rossz vizualizációs módszer, most csak a\n",
        "> `pandas` nyújtotta lehetőségek szemléltetésére használjuk.\n",
        "\n",
        "#### Binary encoding\n",
        "\n",
        "Ha egy folytonos, numerikus változót egy adott küszöbértékhez szeretnénk\n",
        "viszonyítani."
      ],
      "id": "cb90bd7b-4d5c-4221-9a77-ae8766cd7be0"
    },
    {
      "cell_type": "code",
      "execution_count": 22,
      "metadata": {},
      "outputs": [
        {
          "output_type": "stream",
          "name": "stdout",
          "text": [
            "32.204207968574636"
          ]
        },
        {
          "output_type": "display_data",
          "metadata": {},
          "data": {
            "text/html": [
              "\n",
              "</div>"
            ]
          }
        }
      ],
      "source": [
        "threshold = df[\"Fare\"].mean()\n",
        "print(threshold)\n",
        "df[\"FareCheap\"] = (df[\"Fare\"] < threshold).astype(\"int\")\n",
        "\n",
        "df.groupby(\"Pclass\")[\"FareCheap\"].value_counts(normalize=True).unstack()"
      ],
      "id": "e0843f64"
    },
    {
      "cell_type": "code",
      "execution_count": 23,
      "metadata": {},
      "outputs": [
        {
          "output_type": "display_data",
          "metadata": {},
          "data": {
            "image/png": "[encoded data removed]"
          }
        }
      ],
      "source": [
        "df.groupby(\"Pclass\")[\"FareCheap\"].value_counts(normalize=True).unstack().plot.bar(stacked=True)"
      ],
      "id": "5f36b1c0"
    },
    {
      "cell_type": "code",
      "execution_count": 24,
      "metadata": {},
      "outputs": [
        {
          "output_type": "display_data",
          "metadata": {},
          "data": {
            "text/html": [
              "\n",
              "</div>"
            ]
          }
        }
      ],
      "source": [
        "pd.crosstab(df[\"Pclass\"], df[\"FareCheap\"], normalize=\"index\")"
      ],
      "id": "57101d32"
    },
    {
      "cell_type": "code",
      "execution_count": 25,
      "metadata": {},
      "outputs": [
        {
          "output_type": "display_data",
          "metadata": {},
          "data": {
            "image/png": "[encoded data removed]"
          }
        }
      ],
      "source": [
        "fig, ax = plt.subplots(figsize=(8, 6))\n",
        "\n",
        "pd.crosstab(df[\"Pclass\"], df[\"FareCheap\"], normalize=\"index\").plot.barh(\n",
        "    stacked=True, color=[\"orange\", \"lightblue\"], ax=ax\n",
        ")\n",
        "\n",
        "ax.legend(\n",
        "    title=\"Ticket price\",\n",
        "    labels=[\"expensive\", \"cheap\"],\n",
        "    bbox_to_anchor=(1, 1.02),\n",
        "    loc=\"upper left\",\n",
        ")\n",
        "\n",
        "for container in ax.containers:\n",
        "    ax.bar_label(container, label_type=\"center\", fmt=\"%.2f\")\n",
        "\n",
        "plt.show()"
      ],
      "id": "a25cbbb7"
    },
    {
      "cell_type": "markdown",
      "metadata": {},
      "source": [
        "### Kategorikus változók\n",
        "\n",
        "-   One-hot encoding: minden egyes egyedi értékhez egy indikátor\n",
        "    változót rendel\n",
        "-   Label encoding: egyedi értékekhez rendelünk egyedi számot\n",
        "    -   Ordinal: van értelme a sorrendnek\n",
        "    -   Nominal: nincs értelme a sorrendnek\n",
        "\n",
        "#### One-hot encoding\n",
        "\n",
        "Dummy kódolásnak is nevezik. Nézzük az `Embarked` oszlopot! Három\n",
        "lehetséges értéke az `S,C,Q`. Vegyünk 3 indikátor változót, nevezzük\n",
        "őket `Embarked_S, Embarked_C, Embarked_Q`-nak. A szabály a következő: ha\n",
        "`X` városban szállt be valaki, akkor `Embarked_X` értéke legyen 1, a\n",
        "többié 0. Tehát például, ha valaki Southamptonban szállt fel, akkor\n",
        "`Embarked_S=1`, `Embarked_C=0`, `Embarked_Q=0`. Ezen indikátor\n",
        "változókat nevezzük dummy változóknak, a belőlük képzett vektort pedig\n",
        "dummy vektornak. Ez előző esetben például a dummy vektor a következő\n",
        "lenne: $[1,0,0]$. Az egyes oszlopok ekkor arra a kérdésre válaszolnak\n",
        "valójában, hogy az illető `X` városban szállt-e fel."
      ],
      "id": "e70d19ff-912a-4eb5-9632-59b7baddd283"
    },
    {
      "cell_type": "code",
      "execution_count": 26,
      "metadata": {},
      "outputs": [
        {
          "output_type": "display_data",
          "metadata": {},
          "data": {
            "text/html": [
              "\n",
              "</div>"
            ]
          }
        }
      ],
      "source": [
        "df_dummy = pd.get_dummies(df, columns=[\"Embarked\"], prefix=\"Embarked\")\n",
        "df_dummy.head()"
      ],
      "id": "1f13d447"
    },
    {
      "cell_type": "code",
      "execution_count": 27,
      "metadata": {},
      "outputs": [
        {
          "output_type": "stream",
          "name": "stdout",
          "text": [
            "['S', 'C', 'Q']\n",
            "['Embarked', 'is_Embarked_S', 'is_Embarked_C', 'is_Embarked_Q']"
          ]
        },
        {
          "output_type": "display_data",
          "metadata": {},
          "data": {
            "text/html": [
              "\n",
              "</div>"
            ]
          }
        }
      ],
      "source": [
        "cities = list(filter(pd.notna, df[\"Embarked\"].unique()))\n",
        "print(cities)\n",
        "\n",
        "for city in cities:\n",
        "    df[f\"is_Embarked_{city}\"] = (df[\"Embarked\"] == city).astype(\"int\")\n",
        "\n",
        "print(list(filter(lambda col: \"Embarked\" in col, df.columns)))\n",
        "\n",
        "df[[\"Embarked\", \"is_Embarked_S\", \"is_Embarked_C\", \"is_Embarked_Q\"]].head()"
      ],
      "id": "5240e00e"
    },
    {
      "cell_type": "markdown",
      "metadata": {},
      "source": [
        "Mindenhol egy darab egyes van?"
      ],
      "id": "0c43785b-44a9-4988-9ae8-7c8e3367ee9c"
    },
    {
      "cell_type": "code",
      "execution_count": 28,
      "metadata": {},
      "outputs": [
        {
          "output_type": "display_data",
          "metadata": {},
          "data": {
            "text/plain": [
              "False"
            ]
          }
        }
      ],
      "source": [
        "all(df[[\"is_Embarked_S\", \"is_Embarked_C\", \"is_Embarked_Q\"]].sum(axis=1) == 1)"
      ],
      "id": "d4aa92b4"
    },
    {
      "cell_type": "markdown",
      "metadata": {},
      "source": [
        "Mik a problémás sorok? Hát azok, ahol hiányzik az `Embarked` érték."
      ],
      "id": "6b945acf-38bd-439c-8483-c170f22effaf"
    },
    {
      "cell_type": "code",
      "execution_count": 29,
      "metadata": {},
      "outputs": [
        {
          "output_type": "display_data",
          "metadata": {},
          "data": {
            "text/html": [
              "\n",
              "</div>"
            ]
          }
        }
      ],
      "source": [
        "df[df[[\"is_Embarked_S\", \"is_Embarked_C\", \"is_Embarked_Q\"]].sum(axis=1) != 1]"
      ],
      "id": "47f7b66c"
    },
    {
      "cell_type": "code",
      "execution_count": 30,
      "metadata": {},
      "outputs": [
        {
          "output_type": "display_data",
          "metadata": {},
          "data": {
            "text/plain": [
              "Embarked\n",
              "S    644\n",
              "C    168\n",
              "Q     77\n",
              "Name: count, dtype: int64"
            ]
          }
        }
      ],
      "source": [
        "df[\"Embarked\"].value_counts()"
      ],
      "id": "86f1a55d"
    },
    {
      "cell_type": "markdown",
      "metadata": {},
      "source": [
        "Vegyük észre, hogy az utolsó oszlopot akár el is lehet hagyni:\n",
        "`Embarked_Q` pontosan akkor 1, ha a többi 0. (Hiszen az első $n-1$\n",
        "indikátor változó meghatározza az $n$-diket, ha a rendszer teljes.)\n",
        "\n",
        "#### Label encoding\n",
        "\n",
        "Egy $n$ különböző értéket felvevő kategorikus változó értékeit 0-tól\n",
        "$n-1$-ig terjedő skálán reprezentáljuk."
      ],
      "id": "72caa57e-120e-4dcd-a1ff-b3e1142dc546"
    },
    {
      "cell_type": "code",
      "execution_count": 31,
      "metadata": {},
      "outputs": [
        {
          "output_type": "display_data",
          "metadata": {},
          "data": {
            "text/plain": [
              "0      2\n",
              "1      0\n",
              "2      2\n",
              "3      2\n",
              "4      2\n",
              "      ..\n",
              "886    2\n",
              "887    2\n",
              "888    2\n",
              "889    0\n",
              "890    1\n",
              "Length: 891, dtype: int8"
            ]
          }
        }
      ],
      "source": [
        "df[\"Embarked\"].astype(\"category\").cat.codes"
      ],
      "id": "fbe1f7ed"
    },
    {
      "cell_type": "markdown",
      "metadata": {},
      "source": [
        "Manuálisan is meghatározhatjuk a leképezést:"
      ],
      "id": "0aa6b2fd-67bf-45b2-b1f3-7435bafb3bcc"
    },
    {
      "cell_type": "code",
      "execution_count": 32,
      "metadata": {},
      "outputs": [
        {
          "output_type": "display_data",
          "metadata": {},
          "data": {
            "text/plain": [
              "0      0.0\n",
              "1      1.0\n",
              "2      0.0\n",
              "3      0.0\n",
              "4      0.0\n",
              "      ... \n",
              "886    0.0\n",
              "887    0.0\n",
              "888    0.0\n",
              "889    1.0\n",
              "890    2.0\n",
              "Name: Embarked, Length: 891, dtype: float64"
            ]
          }
        }
      ],
      "source": [
        "embarked_mapping = {\"S\": 0, \"C\": 1, \"Q\": 2}\n",
        "df[\"Embarked\"].map(embarked_mapping)"
      ],
      "id": "6658ff83"
    },
    {
      "cell_type": "markdown",
      "metadata": {},
      "source": [
        "Ha a kategóriáknak van természetes sorrendjük – például az `AgeGroup`\n",
        "változó esetén –, akkor érdemes ezt figyelembe venni: ekkor *ordinal\n",
        "encodingról* beszélünk.\n",
        "\n",
        "> **Korreláció és kategorikus változók**\n",
        ">\n",
        "> Egy kategorikus változó numerikussá tétele után a `df.corr()` hívásban\n",
        "> már ez a változó is szerepelni. Ez attól még *nem jelenti azt,* hogy\n",
        "> az eredmény értelmes. Ha egy kategorikus változó (a szó köznapi\n",
        "> értelmében) erősen korrelál egy másikkal, akkor különböző leképezések\n",
        "> során különböző értéket fogsz kapni.\n",
        "\n",
        "## Skálázás (Scaling)\n",
        "\n",
        "Néha a numerikus értékeket szeretnénk átskálázni is (ha pl. a konkrét\n",
        "érték helyett az egymáshoz viszonyított érték számít).\n",
        "\n",
        "### Standarizálás\n",
        "\n",
        "Ha adott egy $N(m,\\sigma)$ normális eloszlású változó, érdemes lehet\n",
        "standard normálissá transzformálni."
      ],
      "id": "6ffdf461-dbe8-4336-a3b2-30823f7d1d03"
    },
    {
      "cell_type": "code",
      "execution_count": 33,
      "metadata": {},
      "outputs": [
        {
          "output_type": "display_data",
          "metadata": {},
          "data": {
            "image/png": "[encoded data removed]"
          }
        }
      ],
      "source": [
        "df[\"Age\"].hist(grid=False)"
      ],
      "id": "a679205d"
    },
    {
      "cell_type": "code",
      "execution_count": 34,
      "metadata": {},
      "outputs": [
        {
          "output_type": "display_data",
          "metadata": {},
          "data": {
            "image/png": "[encoded data removed]"
          }
        }
      ],
      "source": [
        "age_mean = df[\"Age\"].mean()\n",
        "age_std = df[\"Age\"].std()\n",
        "df[\"Age_standardized\"] = (df[\"Age\"] - age_mean) / age_std\n",
        "df[\"Age_standardized\"].hist(grid=False)"
      ],
      "id": "f1a88da2"
    },
    {
      "cell_type": "markdown",
      "metadata": {},
      "source": [
        "### Min-max skálázás\n",
        "\n",
        "A változó értékeit egy lineáris leképezéssel a $[0,1]$ vagy esetleg a\n",
        "$[-1,1]$ intervallumba képezzük.\n",
        "\n",
        "## Gyakorlás\n",
        "\n",
        "### Encoding\n",
        "\n",
        "1.  A `Sex` kategorikus változót kódold el numerikus értékké! Milyen\n",
        "    kódolást használtál? Lehet-e mást?"
      ],
      "id": "0dc6990f-f69c-4fe5-93bb-627977d800b9"
    },
    {
      "cell_type": "code",
      "execution_count": 35,
      "metadata": {},
      "outputs": [],
      "source": [
        "# TODO"
      ],
      "id": "dcc46fac"
    },
    {
      "cell_type": "markdown",
      "metadata": {},
      "source": [
        "1.  Az `Age` oszlopot az átlag helyett kódold el a *medián* szerint\n",
        "    binárisan! Nézd meg, hogy az utasosztályok szerint milyen eloszlást\n",
        "    kapsz!"
      ],
      "id": "c335df99-6d7d-4027-839f-bb52fa1294de"
    },
    {
      "cell_type": "code",
      "execution_count": 36,
      "metadata": {},
      "outputs": [],
      "source": [
        "# TODO"
      ],
      "id": "f411126b"
    },
    {
      "cell_type": "markdown",
      "metadata": {},
      "source": [
        "1.  Az *ordinal encoding* során a transzformálni kívánt változónak van\n",
        "    egy *természetes* sorrendje (pl. napok, hónapok). Ekkor a kódolás\n",
        "    során ezt szeretnénk megtartani. Jelen esetben ilyen például az\n",
        "    `AgeGroup` változó. Alakítsd át numerikus értékké a sorrend\n",
        "    tiszteletben tartásával!"
      ],
      "id": "290399e1-3c8f-4252-b572-72e69cd2bfed"
    },
    {
      "cell_type": "code",
      "execution_count": 37,
      "metadata": {},
      "outputs": [],
      "source": [
        "# TODO"
      ],
      "id": "3dd8804c"
    },
    {
      "cell_type": "markdown",
      "metadata": {},
      "source": [
        "1.  A `scikit-learn.preprocessing` modul nem csak a skálázásra, de az\n",
        "    elkódolásra is tartalmaz beépített függvényt. A\n",
        "    [LabelEncoder](https://scikit-learn.org/stable/modules/generated/sklearn.preprocessing.LabelEncoder.html#sklearn.preprocessing.LabelEncoder)\n",
        "    segítségével ismételd meg az `Embarked` oszlop órán látott Label\n",
        "    encoding változatát!"
      ],
      "id": "6b1eb013-be9a-435c-9fe1-c66ecf418e81"
    },
    {
      "cell_type": "code",
      "execution_count": 38,
      "metadata": {},
      "outputs": [],
      "source": [
        "# TODO"
      ],
      "id": "08fe8754"
    },
    {
      "cell_type": "markdown",
      "metadata": {},
      "source": [
        "1.  Készíts egy vezetéknév oszlopot és nézd nézd meg a leggyakoribb\n",
        "    neveket. A vezetéknév kinyeréséhez figyeld meg, hogy mindenki\n",
        "    vezetékneve vesszővel elválasztva szerepel a `string` elején.\n",
        "    Ismered a megfelelő python parancsot erre? Ha nem, nézd meg, hogy\n",
        "    mit csinál `.split(\",\")` parancs az oszlop egy tetszőleges elemén."
      ],
      "id": "20d793bd-5db3-4ca6-ac2c-c5aa74945424"
    },
    {
      "cell_type": "code",
      "execution_count": 39,
      "metadata": {},
      "outputs": [],
      "source": [
        "# TODO"
      ],
      "id": "02fec407"
    },
    {
      "cell_type": "markdown",
      "metadata": {},
      "source": [
        "1.  Kódold el az `Age` oszlopot a kvartilisek alapján! Használd a\n",
        "    `quantile` vagy `percentile` függvényeket. Milyen típusú kódolás ez?\n",
        "    Mit gondolsz, milyen modellek esetén érdemes így elkódolni egy\n",
        "    adatot, és mikor felesleges, sőt hátrányos?"
      ],
      "id": "c90fe7ba-ef80-41de-8b30-b062ace06264"
    },
    {
      "cell_type": "code",
      "execution_count": 40,
      "metadata": {},
      "outputs": [],
      "source": [
        "# TODO"
      ],
      "id": "7d758726"
    },
    {
      "cell_type": "markdown",
      "metadata": {},
      "source": [
        "1.  A *target encoding* során egy kategorikus változót aszerint kódolunk\n",
        "    el, hogy a *célváltozónak mennyi az átlaga* a változó adott\n",
        "    szintjén. Készítsd el az `Embarked` oszlop target encode-olt\n",
        "    változatát. Mi ennek a kódolásnak a hátránya? Érdemes szerinted\n",
        "    használni?"
      ],
      "id": "b07a77cd-c777-4373-905c-a040ff230b00"
    },
    {
      "cell_type": "code",
      "execution_count": 41,
      "metadata": {},
      "outputs": [],
      "source": [
        "# TODO"
      ],
      "id": "5ede792a"
    }
  ],
  "nbformat": 4,
  "nbformat_minor": 5,
  "metadata": {
    "kernelspec": {
      "name": "python3",
      "display_name": "Python 3 (ipykernel)",
      "language": "python",
      "path": "/home/runner/work/dmml-web/dmml-web/.venv/share/jupyter/kernels/python3"
    },
    "language_info": {
      "name": "python",
      "codemirror_mode": {
        "name": "ipython",
        "version": "3"
      },
      "file_extension": ".py",
      "mimetype": "text/x-python",
      "nbconvert_exporter": "python",
      "pygments_lexer": "ipython3",
      "version": "3.13.8"
    }
  }
}