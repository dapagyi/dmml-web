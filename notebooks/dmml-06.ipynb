{
  "cells": [
    {
      "cell_type": "markdown",
      "metadata": {},
      "source": [
        "# DMML-06\n",
        "\n",
        "Kaggle; experiment tracking; custom `scikit-learn` transformers.\n",
        "\n",
        "<strong>Web page:</strong>\n",
        "<a href=\"https://apagyidavid.web.elte.hu/2025-2026-1/dmml\"\n",
        "target=\"_blank\">apagyidavid.web.elte.hu/2025-2026-1/dmml</a>\n",
        "\n",
        "<a target=\"_blank\" href=\"https://colab.research.google.com/github/dapagyi/dmml-web/blob/gh-pages/notebooks/dmml-06.ipynb\"><img src=\"https://colab.research.google.com/assets/colab-badge.svg\" alt=\"Open In Colab\"/></a>\n",
        "\n",
        "# Kaggle\n",
        "\n",
        "Save your `KAGGLE_USERNAME` and `KAGGLE_KEY` in a `.env` file next to\n",
        "your notebooks, like this:\n",
        "\n",
        "```\n",
        "KAGGLE_USERNAME=your_username\n",
        "KAGGLE_KEY=your_key\n",
        "```"
      ],
      "id": "1918ba5b-fec9-49fa-9997-42b97d0f7f08"
    },
    {
      "cell_type": "code",
      "execution_count": 1,
      "metadata": {},
      "outputs": [
        {
          "output_type": "stream",
          "name": "stdout",
          "text": [
            "KAGGLE_USERNAME=dapagyi"
          ]
        }
      ],
      "source": [
        "from dotenv import load_dotenv  # Install the \"python-dotenv\" package if you don't have it yet.\n",
        "import mlflow  # Install the \"mlflow\" package if you don't have it yet.\n",
        "import pandas as pd\n",
        "import os\n",
        "from sklearn.model_selection import train_test_split\n",
        "from sklearn.ensemble import RandomForestRegressor\n",
        "from sklearn.metrics import mean_absolute_error, mean_squared_error, r2_score\n",
        "from sklearn.model_selection import RandomizedSearchCV, cross_val_score\n",
        "import numpy as np\n",
        "from sklearn.pipeline import Pipeline\n",
        "from sklearn.compose import ColumnTransformer\n",
        "from sklearn.preprocessing import OneHotEncoder, StandardScaler\n",
        "import matplotlib.pyplot as plt\n",
        "\n",
        "load_dotenv()\n",
        "print(f\"KAGGLE_USERNAME={os.getenv('KAGGLE_USERNAME')}\")"
      ],
      "id": "3d71b98d"
    },
    {
      "cell_type": "markdown",
      "metadata": {},
      "source": [
        "You can download datasets from Kaggle using the `kaggle` command.\n",
        "(Install the `kaggle` package if you don’t have it yet.)"
      ],
      "id": "4c6dfc5b-c27d-4ccc-af67-651edf9cf05f"
    },
    {
      "cell_type": "code",
      "execution_count": 2,
      "metadata": {},
      "outputs": [
        {
          "output_type": "stream",
          "name": "stdout",
          "text": [
            "house-prices-advanced-regression-techniques.zip: Skipping, found more recently modified local copy (use --force to force download)\n",
            "Archive:  ../data/house-prices/house-prices-advanced-regression-techniques.zip\n",
            "  inflating: ../data/house-prices/data_description.txt  \n",
            "  inflating: ../data/house-prices/sample_submission.csv  \n",
            "  inflating: ../data/house-prices/test.csv  \n",
            "  inflating: ../data/house-prices/train.csv  "
          ]
        }
      ],
      "source": [
        "!kaggle competitions download -c house-prices-advanced-regression-techniques -p ../data/house-prices\n",
        "!unzip -o ../data/house-prices/house-prices-advanced-regression-techniques.zip -d ../data/house-prices"
      ],
      "id": "efbb18a5"
    },
    {
      "cell_type": "code",
      "execution_count": 3,
      "metadata": {},
      "outputs": [
        {
          "output_type": "display_data",
          "metadata": {},
          "data": {
            "text/html": [
              "\n",
              "<p>5 rows × 81 columns</p>\n",
              "</div>"
            ]
          }
        }
      ],
      "source": [
        "df = pd.read_csv(\"../data/house-prices/train.csv\")\n",
        "df.head()"
      ],
      "id": "36b1d337"
    },
    {
      "cell_type": "code",
      "execution_count": 4,
      "metadata": {},
      "outputs": [
        {
          "output_type": "stream",
          "name": "stdout",
          "text": [
            "<class 'pandas.core.frame.DataFrame'>\n",
            "RangeIndex: 1460 entries, 0 to 1459\n",
            "Data columns (total 81 columns):\n",
            " #   Column         Non-Null Count  Dtype  \n",
            "---  ------         --------------  -----  \n",
            " 0   Id             1460 non-null   int64  \n",
            " 1   MSSubClass     1460 non-null   int64  \n",
            " 2   MSZoning       1460 non-null   object \n",
            " 3   LotFrontage    1201 non-null   float64\n",
            " 4   LotArea        1460 non-null   int64  \n",
            " 5   Street         1460 non-null   object \n",
            " 6   Alley          91 non-null     object \n",
            " 7   LotShape       1460 non-null   object \n",
            " 8   LandContour    1460 non-null   object \n",
            " 9   Utilities      1460 non-null   object \n",
            " 10  LotConfig      1460 non-null   object \n",
            " 11  LandSlope      1460 non-null   object \n",
            " 12  Neighborhood   1460 non-null   object \n",
            " 13  Condition1     1460 non-null   object \n",
            " 14  Condition2     1460 non-null   object \n",
            " 15  BldgType       1460 non-null   object \n",
            " 16  HouseStyle     1460 non-null   object \n",
            " 17  OverallQual    1460 non-null   int64  \n",
            " 18  OverallCond    1460 non-null   int64  \n",
            " 19  YearBuilt      1460 non-null   int64  \n",
            " 20  YearRemodAdd   1460 non-null   int64  \n",
            " 21  RoofStyle      1460 non-null   object \n",
            " 22  RoofMatl       1460 non-null   object \n",
            " 23  Exterior1st    1460 non-null   object \n",
            " 24  Exterior2nd    1460 non-null   object \n",
            " 25  MasVnrType     588 non-null    object \n",
            " 26  MasVnrArea     1452 non-null   float64\n",
            " 27  ExterQual      1460 non-null   object \n",
            " 28  ExterCond      1460 non-null   object \n",
            " 29  Foundation     1460 non-null   object \n",
            " 30  BsmtQual       1423 non-null   object \n",
            " 31  BsmtCond       1423 non-null   object \n",
            " 32  BsmtExposure   1422 non-null   object \n",
            " 33  BsmtFinType1   1423 non-null   object \n",
            " 34  BsmtFinSF1     1460 non-null   int64  \n",
            " 35  BsmtFinType2   1422 non-null   object \n",
            " 36  BsmtFinSF2     1460 non-null   int64  \n",
            " 37  BsmtUnfSF      1460 non-null   int64  \n",
            " 38  TotalBsmtSF    1460 non-null   int64  \n",
            " 39  Heating        1460 non-null   object \n",
            " 40  HeatingQC      1460 non-null   object \n",
            " 41  CentralAir     1460 non-null   object \n",
            " 42  Electrical     1459 non-null   object \n",
            " 43  1stFlrSF       1460 non-null   int64  \n",
            " 44  2ndFlrSF       1460 non-null   int64  \n",
            " 45  LowQualFinSF   1460 non-null   int64  \n",
            " 46  GrLivArea      1460 non-null   int64  \n",
            " 47  BsmtFullBath   1460 non-null   int64  \n",
            " 48  BsmtHalfBath   1460 non-null   int64  \n",
            " 49  FullBath       1460 non-null   int64  \n",
            " 50  HalfBath       1460 non-null   int64  \n",
            " 51  BedroomAbvGr   1460 non-null   int64  \n",
            " 52  KitchenAbvGr   1460 non-null   int64  \n",
            " 53  KitchenQual    1460 non-null   object \n",
            " 54  TotRmsAbvGrd   1460 non-null   int64  \n",
            " 55  Functional     1460 non-null   object \n",
            " 56  Fireplaces     1460 non-null   int64  \n",
            " 57  FireplaceQu    770 non-null    object \n",
            " 58  GarageType     1379 non-null   object \n",
            " 59  GarageYrBlt    1379 non-null   float64\n",
            " 60  GarageFinish   1379 non-null   object \n",
            " 61  GarageCars     1460 non-null   int64  \n",
            " 62  GarageArea     1460 non-null   int64  \n",
            " 63  GarageQual     1379 non-null   object \n",
            " 64  GarageCond     1379 non-null   object \n",
            " 65  PavedDrive     1460 non-null   object \n",
            " 66  WoodDeckSF     1460 non-null   int64  \n",
            " 67  OpenPorchSF    1460 non-null   int64  \n",
            " 68  EnclosedPorch  1460 non-null   int64  \n",
            " 69  3SsnPorch      1460 non-null   int64  \n",
            " 70  ScreenPorch    1460 non-null   int64  \n",
            " 71  PoolArea       1460 non-null   int64  \n",
            " 72  PoolQC         7 non-null      object \n",
            " 73  Fence          281 non-null    object \n",
            " 74  MiscFeature    54 non-null     object \n",
            " 75  MiscVal        1460 non-null   int64  \n",
            " 76  MoSold         1460 non-null   int64  \n",
            " 77  YrSold         1460 non-null   int64  \n",
            " 78  SaleType       1460 non-null   object \n",
            " 79  SaleCondition  1460 non-null   object \n",
            " 80  SalePrice      1460 non-null   int64  \n",
            "dtypes: float64(3), int64(35), object(43)\n",
            "memory usage: 924.0+ KB"
          ]
        }
      ],
      "source": [
        "df.info()"
      ],
      "id": "1f308851"
    },
    {
      "cell_type": "markdown",
      "metadata": {},
      "source": [
        "We will use only a few columns for simplicity."
      ],
      "id": "dfec2810-449b-4956-9467-ee07afd50e1b"
    },
    {
      "cell_type": "code",
      "execution_count": 5,
      "metadata": {},
      "outputs": [
        {
          "output_type": "display_data",
          "metadata": {},
          "data": {
            "text/html": [
              "\n",
              "</div>"
            ]
          }
        }
      ],
      "source": [
        "selected_features = [\n",
        "    \"LotArea\",\n",
        "    \"YearBuilt\",\n",
        "    \"TotalBsmtSF\",\n",
        "    \"Neighborhood\",\n",
        "    \"BldgType\",\n",
        "    \"HouseStyle\",\n",
        "]\n",
        "target_column = \"SalePrice\"\n",
        "df = df[[*selected_features, target_column]]\n",
        "\n",
        "df.head()"
      ],
      "id": "1ad07e20"
    },
    {
      "cell_type": "markdown",
      "metadata": {},
      "source": [
        "# Experiment tracking\n",
        "\n",
        "Some notable experiment tracking tools:\n",
        "\n",
        "-   <a href=\"https://wandb.ai/site\" target=\"_blank\">Weights &amp; Biases</a>\n",
        "    -   Maybe the most popular one, most user friendly.\n",
        "-   <a href=\"https://mlflow.org/\" target=\"_blank\">MLflow</a>\n",
        "    -   Open source, can be self-hosted, also works locally.\n",
        "    -   There’s no “official” cloud for MLflow, but you can use\n",
        "        <a href=\"https://dagshub.com/\" target=\"_blank\">DagsHub</a> for\n",
        "        free hosting.\n",
        "-   <a href=\"https://neptune.ai/\" target=\"_blank\">Neptune</a>\n",
        "-   <a href=\"https://www.comet.ml/\" target=\"_blank\">Comet</a>\n",
        "\n",
        "I prefer MLflow (I also self-host it on a server), so this showcase will\n",
        "use MLflow and DagsHub, but feel free to use any other tool.\n",
        "\n",
        "After creating a repository on DagsHub, copy your MLflow tracking URI,\n",
        "username and password to your `.env` file:\n",
        "\n",
        "```\n",
        "# (...)\n",
        "\n",
        "MLFLOW_TRACKING_USERNAME=your_username\n",
        "MLFLOW_TRACKING_PASSWORD=your_tracking_password\n",
        "MLFLOW_TRACKING_URI=https://dagshub.com/your_username/your_repo.mlflow\n",
        "MLFLOW_EXPERIMENT_NAME=\"House Prices Prediction\"\n",
        "```\n",
        "\n",
        "Load these environment variables into your kernel:"
      ],
      "id": "4aae39e7-b42e-4fe8-9ff8-a62012758c01"
    },
    {
      "cell_type": "code",
      "execution_count": 6,
      "metadata": {},
      "outputs": [
        {
          "output_type": "stream",
          "name": "stdout",
          "text": [
            "MLFLOW_TRACKING_URI=https://dagshub.com/dapagyi/dmml.mlflow"
          ]
        }
      ],
      "source": [
        "load_dotenv()\n",
        "print(f\"MLFLOW_TRACKING_URI={os.getenv('MLFLOW_TRACKING_URI')}\")"
      ],
      "id": "f824e04e"
    },
    {
      "cell_type": "markdown",
      "metadata": {},
      "source": [
        "Create a simple experiment that tracks some hyperparameters and metrics."
      ],
      "id": "cff7061d-5307-487c-8bdf-9e1fd6fac4cf"
    },
    {
      "cell_type": "code",
      "execution_count": 7,
      "metadata": {},
      "outputs": [
        {
          "output_type": "stream",
          "name": "stdout",
          "text": [
            "Train set size: 1168, Test set size: 292"
          ]
        },
        {
          "output_type": "display_data",
          "metadata": {},
          "data": {
            "text/html": [
              "\n",
              "            </details>\n",
              "        </div>\n",
              "    </div></div></div></div></div></div></div></div></div></div><script>function copyToClipboard(text, element) {\n",
              "    // Get the parameter prefix from the closest toggleable content\n",
              "    const toggleableContent = element.closest('.sk-toggleable__content');\n",
              "    const paramPrefix = toggleableContent ? toggleableContent.dataset.paramPrefix : '';\n",
              "    const fullParamName = paramPrefix ? `${paramPrefix}${text}` : text;\n",
              "\n",
              "    const originalStyle = element.style;\n",
              "    const computedStyle = window.getComputedStyle(element);\n",
              "    const originalWidth = computedStyle.width;\n",
              "    const originalHTML = element.innerHTML.replace('Copied!', '');\n",
              "\n",
              "    navigator.clipboard.writeText(fullParamName)\n",
              "        .then(() => {\n",
              "            element.style.width = originalWidth;\n",
              "            element.style.color = 'green';\n",
              "            element.innerHTML = \"Copied!\";\n",
              "\n",
              "            setTimeout(() => {\n",
              "                element.innerHTML = originalHTML;\n",
              "                element.style = originalStyle;\n",
              "            }, 2000);\n",
              "        })\n",
              "        .catch(err => {\n",
              "            console.error('Failed to copy:', err);\n",
              "            element.style.color = 'red';\n",
              "            element.innerHTML = \"Failed!\";\n",
              "            setTimeout(() => {\n",
              "                element.innerHTML = originalHTML;\n",
              "                element.style = originalStyle;\n",
              "            }, 2000);\n",
              "        });\n",
              "    return false;\n",
              "}\n",
              "\n",
              "document.querySelectorAll('.fa-regular.fa-copy').forEach(function(element) {\n",
              "    const toggleableContent = element.closest('.sk-toggleable__content');\n",
              "    const paramPrefix = toggleableContent ? toggleableContent.dataset.paramPrefix : '';\n",
              "    const paramName = element.parentElement.nextElementSibling.textContent.trim();\n",
              "    const fullParamName = paramPrefix ? `${paramPrefix}${paramName}` : paramName;\n",
              "\n",
              "    element.setAttribute('title', fullParamName);\n",
              "});\n",
              "</script></body>"
            ]
          }
        }
      ],
      "source": [
        "X, y = df.drop(columns=[target_column]), df[target_column]\n",
        "\n",
        "X_train, X_test, y_train, y_test = train_test_split(X, y, test_size=0.2, random_state=42)\n",
        "\n",
        "print(f\"Train set size: {X_train.shape[0]}, Test set size: {X_test.shape[0]}\")\n",
        "\n",
        "categorical_cols = [\"Neighborhood\", \"BldgType\", \"HouseStyle\"]\n",
        "numerical_cols = [\"LotArea\", \"YearBuilt\", \"TotalBsmtSF\"]\n",
        "\n",
        "preprocessor = ColumnTransformer(\n",
        "    transformers=[\n",
        "        (\"num\", StandardScaler(), numerical_cols),\n",
        "        (\"cat\", OneHotEncoder(handle_unknown=\"ignore\"), categorical_cols),\n",
        "    ],\n",
        "    remainder=\"drop\",\n",
        ")\n",
        "\n",
        "preprocessor"
      ],
      "id": "3549ff4d"
    },
    {
      "cell_type": "code",
      "execution_count": 8,
      "metadata": {},
      "outputs": [
        {
          "output_type": "stream",
          "name": "stdout",
          "text": [
            "🏃 View run loud-shark-88 at: https://dagshub.com/dapagyi/dmml.mlflow/#/experiments/0/runs/582e71cda28e49a983b4a01e3d4d7bd2\n",
            "🧪 View experiment at: https://dagshub.com/dapagyi/dmml.mlflow/#/experiments/0"
          ]
        }
      ],
      "source": [
        "def train_and_evaluate(pipeline, param_distributions, X_train, y_train, X_test, y_test):\n",
        "    random_search = RandomizedSearchCV(\n",
        "        pipeline,\n",
        "        param_distributions,\n",
        "        n_iter=10,\n",
        "        cv=3,\n",
        "        random_state=42,\n",
        "        scoring=\"neg_root_mean_squared_error\",\n",
        "        n_jobs=-1,\n",
        "    )\n",
        "    mlflow.set_experiment(\"House Prices Prediction\")\n",
        "    with mlflow.start_run():\n",
        "        random_search.fit(X_train, y_train)\n",
        "\n",
        "        mlflow.log_params(random_search.best_params_)\n",
        "\n",
        "        y_pred_train = random_search.best_estimator_.predict(X_train)\n",
        "        y_pred_test = random_search.best_estimator_.predict(X_test)\n",
        "\n",
        "        scores = cross_val_score(\n",
        "            random_search.best_estimator_,\n",
        "            X_train,\n",
        "            y_train,\n",
        "            cv=3,\n",
        "            scoring=\"neg_root_mean_squared_error\",\n",
        "            n_jobs=-1,\n",
        "        )\n",
        "\n",
        "        mlflow.log_metrics(\n",
        "            {\n",
        "                \"cv_rmse_mean\": -scores.mean(),\n",
        "                \"cv_rmse_std\": scores.std(),\n",
        "            }\n",
        "        )\n",
        "\n",
        "        mlflow.log_metrics(\n",
        "            {\n",
        "                \"rmse_train\": mean_squared_error(y_train, y_pred_train),\n",
        "                \"rmse_test\": mean_squared_error(y_test, y_pred_test),\n",
        "                \"r2_train\": r2_score(y_train, y_pred_train),\n",
        "                \"r2_test\": r2_score(y_test, y_pred_test),\n",
        "                \"mae_train\": mean_absolute_error(y_train, y_pred_train),\n",
        "                \"mae_test\": mean_absolute_error(y_test, y_pred_test),\n",
        "            }\n",
        "        )\n",
        "\n",
        "        os.makedirs(\"plots\", exist_ok=True)\n",
        "\n",
        "        fig, ax = plt.subplots(figsize=(8, 6))\n",
        "        ax.scatter(y_test, y_pred_test, alpha=0.7, color=\"b\")\n",
        "        ax.plot([min(y_test), max(y_test)], [min(y_test), max(y_test)], \"--r\", linewidth=2)\n",
        "        ax.set_xlabel(\"Actual\")\n",
        "        ax.set_ylabel(\"Predicted\")\n",
        "        ax.set_title(\"Predicted vs Actual Values\")\n",
        "        plot_path = \"plots/prediction_plot.png\"\n",
        "        fig.savefig(plot_path)\n",
        "        plt.close(fig)\n",
        "        mlflow.log_artifact(plot_path)\n",
        "\n",
        "        residuals = y_test - y_pred_test\n",
        "        fig, ax = plt.subplots(figsize=(8, 6))\n",
        "        ax.scatter(y_pred_test, residuals, alpha=0.7, color=\"g\")\n",
        "        ax.axhline(y=0, color=\"r\", linestyle=\"--\", linewidth=2)\n",
        "        ax.set_xlabel(\"Predicted\")\n",
        "        ax.set_ylabel(\"Residuals\")\n",
        "        ax.set_title(\"Residual Plot\")\n",
        "        residual_plot_path = \"plots/residual_plot.png\"\n",
        "        fig.savefig(residual_plot_path)\n",
        "        plt.close(fig)\n",
        "        mlflow.log_artifact(residual_plot_path)\n",
        "\n",
        "        mean_scores = -random_search.cv_results_[\"mean_test_score\"]\n",
        "        std_scores = random_search.cv_results_[\"std_test_score\"]\n",
        "        param_combinations = range(len(mean_scores))\n",
        "\n",
        "        fig, ax = plt.subplots(figsize=(8, 6))\n",
        "        ax.errorbar(\n",
        "            param_combinations,\n",
        "            mean_scores,\n",
        "            yerr=std_scores,\n",
        "            fmt=\"o\",\n",
        "            capsize=5,\n",
        "            color=\"b\",\n",
        "            ecolor=\"r\",\n",
        "            elinewidth=2,\n",
        "            capthick=2,\n",
        "        )\n",
        "        ax.set_xlabel(\"Parameter Combination Index\")\n",
        "        ax.set_ylabel(\"Mean RMSE (Random Search Cross-Validation)\")\n",
        "        ax.set_title(\"Random Search Cross-Validation Scores with Confidence Intervals\")\n",
        "        cross_val_plot_path = \"plots/random_search_cross_validation_plot.png\"\n",
        "        fig.savefig(cross_val_plot_path)\n",
        "        plt.close(fig)\n",
        "        mlflow.log_artifact(cross_val_plot_path)\n",
        "\n",
        "\n",
        "pipeline = Pipeline(\n",
        "    steps=[\n",
        "        (\"preprocessor\", preprocessor),\n",
        "        (\"regressor\", RandomForestRegressor(random_state=42)),\n",
        "    ]\n",
        ")\n",
        "\n",
        "param_distributions = {\n",
        "    \"regressor__n_estimators\": np.arange(50, 300, 50),\n",
        "    \"regressor__max_depth\": [None, 10, 20, 30, 40],\n",
        "    \"regressor__min_samples_split\": np.arange(2, 10, 2),\n",
        "    \"regressor__min_samples_leaf\": np.arange(1, 10, 2),\n",
        "}\n",
        "\n",
        "train_and_evaluate(pipeline, param_distributions, X_train, y_train, X_test, y_test)"
      ],
      "id": "c7b888c2"
    },
    {
      "cell_type": "markdown",
      "metadata": {},
      "source": [
        "# Custom `scikit-learn` transformers\n",
        "\n",
        "In some cases, you might need to create your own custom transformers for\n",
        "`scikit-learn` pipelines."
      ],
      "id": "dde3c81e-853a-45c6-8df2-33f5eb0a02a7"
    },
    {
      "cell_type": "code",
      "execution_count": 9,
      "metadata": {},
      "outputs": [
        {
          "output_type": "display_data",
          "metadata": {},
          "data": {
            "text/html": [
              "\n",
              "</div>"
            ]
          }
        }
      ],
      "source": [
        "df.head()"
      ],
      "id": "75ba0dc3"
    },
    {
      "cell_type": "markdown",
      "metadata": {},
      "source": [
        "Let’s say we want to create a transformer that adds a new feature: the\n",
        "age of the house at the time of sale. We can create a custom transformer\n",
        "by inheriting from `BaseEstimator` and `TransformerMixin`:"
      ],
      "id": "5197680b-0584-45bf-9808-4bd18fd03076"
    },
    {
      "cell_type": "code",
      "execution_count": 10,
      "metadata": {},
      "outputs": [
        {
          "output_type": "display_data",
          "metadata": {},
          "data": {
            "text/html": [
              "\n",
              "</div>"
            ]
          }
        },
        {
          "output_type": "display_data",
          "metadata": {},
          "data": {
            "text/html": [
              "\n",
              "</div>"
            ]
          }
        }
      ],
      "source": [
        "from sklearn.base import BaseEstimator, TransformerMixin\n",
        "from datetime import datetime\n",
        "\n",
        "\n",
        "class DateDiffTransformer(BaseEstimator, TransformerMixin):\n",
        "    def __init__(self, current_year=None):\n",
        "        self.current_year = current_year if current_year is not None else datetime.now().year\n",
        "\n",
        "    def fit(self, X, y=None):\n",
        "        return self\n",
        "\n",
        "    def transform(self, X):\n",
        "        _X = X.copy()\n",
        "        _X[\"HouseAge\"] = self.current_year - _X[\"YearBuilt\"]\n",
        "        return _X[[\"HouseAge\"]]\n",
        "\n",
        "\n",
        "display(df.head())\n",
        "transformer = DateDiffTransformer()\n",
        "transformed_df = transformer.fit_transform(df)\n",
        "display(transformed_df.head())"
      ],
      "id": "1d3618e7"
    },
    {
      "cell_type": "markdown",
      "metadata": {},
      "source": [
        "Now we can integrate this custom transformer into our existing pipeline."
      ],
      "id": "7d21a2f6-3ee1-4686-8d34-8ff70f0349c5"
    },
    {
      "cell_type": "code",
      "execution_count": 11,
      "metadata": {},
      "outputs": [
        {
          "output_type": "display_data",
          "metadata": {},
          "data": {
            "text/html": [
              "\n",
              "            </details>\n",
              "        </div>\n",
              "    </div></div></div></div></div></div></div><script>function copyToClipboard(text, element) {\n",
              "    // Get the parameter prefix from the closest toggleable content\n",
              "    const toggleableContent = element.closest('.sk-toggleable__content');\n",
              "    const paramPrefix = toggleableContent ? toggleableContent.dataset.paramPrefix : '';\n",
              "    const fullParamName = paramPrefix ? `${paramPrefix}${text}` : text;\n",
              "\n",
              "    const originalStyle = element.style;\n",
              "    const computedStyle = window.getComputedStyle(element);\n",
              "    const originalWidth = computedStyle.width;\n",
              "    const originalHTML = element.innerHTML.replace('Copied!', '');\n",
              "\n",
              "    navigator.clipboard.writeText(fullParamName)\n",
              "        .then(() => {\n",
              "            element.style.width = originalWidth;\n",
              "            element.style.color = 'green';\n",
              "            element.innerHTML = \"Copied!\";\n",
              "\n",
              "            setTimeout(() => {\n",
              "                element.innerHTML = originalHTML;\n",
              "                element.style = originalStyle;\n",
              "            }, 2000);\n",
              "        })\n",
              "        .catch(err => {\n",
              "            console.error('Failed to copy:', err);\n",
              "            element.style.color = 'red';\n",
              "            element.innerHTML = \"Failed!\";\n",
              "            setTimeout(() => {\n",
              "                element.innerHTML = originalHTML;\n",
              "                element.style = originalStyle;\n",
              "            }, 2000);\n",
              "        });\n",
              "    return false;\n",
              "}\n",
              "\n",
              "document.querySelectorAll('.fa-regular.fa-copy').forEach(function(element) {\n",
              "    const toggleableContent = element.closest('.sk-toggleable__content');\n",
              "    const paramPrefix = toggleableContent ? toggleableContent.dataset.paramPrefix : '';\n",
              "    const paramName = element.parentElement.nextElementSibling.textContent.trim();\n",
              "    const fullParamName = paramPrefix ? `${paramPrefix}${paramName}` : paramName;\n",
              "\n",
              "    element.setAttribute('title', fullParamName);\n",
              "});\n",
              "</script></body>"
            ]
          }
        }
      ],
      "source": [
        "year_built_col = \"YearBuilt\"\n",
        "numerical_cols.remove(year_built_col)\n",
        "\n",
        "preprocessor = ColumnTransformer(\n",
        "    transformers=[\n",
        "        (\"year\", DateDiffTransformer(), [year_built_col]),\n",
        "        (\"num\", StandardScaler(), numerical_cols),\n",
        "        (\"cat\", OneHotEncoder(handle_unknown=\"ignore\"), categorical_cols),\n",
        "    ],\n",
        "    remainder=\"drop\",\n",
        ")\n",
        "\n",
        "pipeline = Pipeline(\n",
        "    steps=[\n",
        "        (\"preprocessor\", preprocessor),\n",
        "        (\"regressor\", RandomForestRegressor(random_state=42)),\n",
        "    ]\n",
        ")\n",
        "\n",
        "pipeline"
      ],
      "id": "05859865"
    },
    {
      "cell_type": "code",
      "execution_count": 12,
      "metadata": {},
      "outputs": [
        {
          "output_type": "stream",
          "name": "stdout",
          "text": [
            "🏃 View run victorious-frog-378 at: https://dagshub.com/dapagyi/dmml.mlflow/#/experiments/0/runs/753bd6f568994e1d8bcf905b79046fca\n",
            "🧪 View experiment at: https://dagshub.com/dapagyi/dmml.mlflow/#/experiments/0"
          ]
        }
      ],
      "source": [
        "train_and_evaluate(pipeline, param_distributions, X_train, y_train, X_test, y_test)"
      ],
      "id": "dbef647d"
    },
    {
      "cell_type": "code",
      "execution_count": 13,
      "metadata": {},
      "outputs": [
        {
          "output_type": "display_data",
          "metadata": {},
          "data": {
            "image/png": "[encoded data removed]"
          }
        }
      ],
      "source": [
        "fig, ax = plt.subplots(1, 2, figsize=(16, 6))\n",
        "df[target_column].hist(bins=50, ax=ax[0])\n",
        "np.log(df[target_column]).hist(bins=50, ax=ax[1])\n",
        "ax[0].set_title(\"Original SalePrice Distribution\")\n",
        "ax[1].set_title(\"Log-Transformed SalePrice Distribution\")\n",
        "plt.show()"
      ],
      "id": "cfafeb0f"
    },
    {
      "cell_type": "markdown",
      "metadata": {},
      "source": [
        "Extend the pipeline to include a log transformation of the target\n",
        "variable."
      ],
      "id": "2a78f778-1c52-4001-9a19-91eb0952e26e"
    },
    {
      "cell_type": "code",
      "execution_count": 14,
      "metadata": {},
      "outputs": [
        {
          "output_type": "stream",
          "name": "stdout",
          "text": [
            "🏃 View run nebulous-goose-683 at: https://dagshub.com/dapagyi/dmml.mlflow/#/experiments/0/runs/5e4fb3287b3f4ce2ba455f0416d48db7\n",
            "🧪 View experiment at: https://dagshub.com/dapagyi/dmml.mlflow/#/experiments/0"
          ]
        }
      ],
      "source": [
        "from sklearn.compose import TransformedTargetRegressor\n",
        "\n",
        "\n",
        "pipeline = Pipeline(\n",
        "    steps=[\n",
        "        (\"preprocessor\", preprocessor),\n",
        "        (\"regressor\", RandomForestRegressor(random_state=42)),\n",
        "    ]\n",
        ")\n",
        "\n",
        "pipeline = TransformedTargetRegressor(\n",
        "    regressor=pipeline,\n",
        "    func=np.log1p,  # log(1 + x) to handle zero values\n",
        "    inverse_func=np.expm1,  # exp(x) - 1 to revert the transformation\n",
        ")\n",
        "\n",
        "param_distributions = {\n",
        "    \"regressor__regressor__n_estimators\": np.arange(50, 300, 50),\n",
        "    \"regressor__regressor__max_depth\": [None, 10, 20, 30, 40],\n",
        "    \"regressor__regressor__min_samples_split\": np.arange(2, 10, 2),\n",
        "    \"regressor__regressor__min_samples_leaf\": np.arange(1, 10, 2),\n",
        "}\n",
        "\n",
        "train_and_evaluate(pipeline, param_distributions, X_train, y_train, X_test, y_test)"
      ],
      "id": "af0eff9b"
    },
    {
      "cell_type": "markdown",
      "metadata": {},
      "source": [
        "Useful links:\n",
        "\n",
        "-   <a\n",
        "    href=\"https://scikit-learn.org/stable/modules/compose.html#transforming-target-in-regression\"\n",
        "    target=\"_blank\">Transforming target in regression</a>\n",
        "-   <a\n",
        "    href=\"https://scikit-learn.org/stable/modules/preprocessing.html#custom-transformers\"\n",
        "    target=\"_blank\">Custom transformers</a>\n",
        "-   <a\n",
        "    href=\"https://scikit-learn.org/stable/auto_examples/compose/plot_column_transformer.html\"\n",
        "    target=\"_blank\">Column Transformer with Heterogeneous Data Sources</a>"
      ],
      "id": "e60ea624-5e08-41ee-be49-8d83c5befa4b"
    }
  ],
  "nbformat": 4,
  "nbformat_minor": 5,
  "metadata": {
    "kernelspec": {
      "name": "python3",
      "display_name": "Python 3 (ipykernel)",
      "language": "python",
      "path": "/home/runner/work/dmml-web/dmml-web/.venv/share/jupyter/kernels/python3"
    },
    "language_info": {
      "name": "python",
      "codemirror_mode": {
        "name": "ipython",
        "version": "3"
      },
      "file_extension": ".py",
      "mimetype": "text/x-python",
      "nbconvert_exporter": "python",
      "pygments_lexer": "ipython3",
      "version": "3.13.8"
    }
  }
}