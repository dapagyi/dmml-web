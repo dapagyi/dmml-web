{
  "cells": [
    {
      "cell_type": "markdown",
      "metadata": {},
      "source": [
        "# DMML-HW-01\n",
        "\n",
        "<strong>Honlap:</strong>\n",
        "<a href=\"https://apagyidavid.web.elte.hu/2025-2026-1/dmml\"\n",
        "target=\"_blank\">apagyidavid.web.elte.hu/2025-2026-1/dmml</a>\n",
        "\n",
        "<a target=\"_blank\" href=\"https://colab.research.google.com/github/dapagyi/dmml-web/blob/gh-pages/notebooks/dmml-hw-01.ipynb\"><img src=\"https://colab.research.google.com/assets/colab-badge.svg\" alt=\"Open In Colab\"/></a>\n",
        "\n",
        "# Hipotézisvizsgálat\n",
        "\n",
        "Fogalmazz meg egy-két, órán nem taglalt hipotézist a Titanic\n",
        "adathalmazzal kapcsolatban. Tárj fel a változók között összefüggéseket,\n",
        "és vonj le egy következtetést az előzetes hipotézisedre vonatkozóan.\n",
        "\n",
        "Az elemzés során használj minél többféle órán látott módszert: használd\n",
        "a bemutatott `pandas` funkciókat; készíts plotokat,\n",
        "kontingenciatáblázatot; vizsgálj korrelációt, eloszlást, stb.\n",
        "\n",
        "Nyugodtan használj külső forrásokat, less el más adatelemzési\n",
        "technikákat, ezeket tüntesd fel a megoldásodban."
      ],
      "id": "aef6a263-ba26-4d23-bcd6-bb3b01a29de4"
    },
    {
      "cell_type": "code",
      "execution_count": 1,
      "metadata": {},
      "outputs": [],
      "source": [
        "# TODO"
      ],
      "id": "185c33cd"
    }
  ],
  "nbformat": 4,
  "nbformat_minor": 5,
  "metadata": {
    "kernelspec": {
      "name": "python3",
      "display_name": "Python 3 (ipykernel)",
      "language": "python",
      "path": "/home/runner/work/dmml-web/dmml-web/.venv/share/jupyter/kernels/python3"
    },
    "language_info": {
      "name": "python",
      "codemirror_mode": {
        "name": "ipython",
        "version": "3"
      },
      "file_extension": ".py",
      "mimetype": "text/x-python",
      "nbconvert_exporter": "python",
      "pygments_lexer": "ipython3",
      "version": "3.13.8"
    }
  }
}