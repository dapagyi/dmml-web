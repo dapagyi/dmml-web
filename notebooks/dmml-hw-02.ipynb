{
  "cells": [
    {
      "cell_type": "markdown",
      "metadata": {},
      "source": [
        "# DMML-HW-02\n",
        "\n",
        "<strong>Honlap:</strong>\n",
        "<a href=\"https://apagyidavid.web.elte.hu/2025-2026-1/dmml\"\n",
        "target=\"_blank\">apagyidavid.web.elte.hu/2025-2026-1/dmml</a>\n",
        "\n",
        "<a target=\"_blank\" href=\"https://colab.research.google.com/github/dapagyi/dmml-web/blob/gh-pages/notebooks/dmml-hw-02.ipynb\"><img src=\"https://colab.research.google.com/assets/colab-badge.svg\" alt=\"Open In Colab\"/></a>\n",
        "\n",
        "# Lineáris regresszió\n",
        "\n",
        "1.  Elsőként valósítsd meg `numpy` használatával az\n",
        "    $$f(x)=\\dfrac{e^{1-x}\\cdot x^2 + \\sin^2(x^2)}{3\\log(\\sin(0.75 \\cdot x) + 2)}$$\n",
        "    függvény vektorizált változatát!\n",
        "\n",
        "Legyenek az $x_i$ mérési pontjaink a $[0, 5]$ intervallum pontjai $0.01$\n",
        "lépésközzel, az ezekben mért értékek pedig\n",
        "$y_i = f(x_i) + 0.15 \\cdot \\varepsilon_i$, ahol $\\varepsilon_i$\n",
        "sztenderd normális eloszlású mintából származó zaj. Ábrázoljuk a mérési\n",
        "eredményeket."
      ],
      "id": "884703ea-2412-41f2-8b4d-fd4da84c70c0"
    },
    {
      "cell_type": "code",
      "execution_count": 1,
      "metadata": {},
      "outputs": [],
      "source": [
        "import numpy as np\n",
        "import matplotlib.pyplot as plt\n",
        "from scipy.linalg.lapack import dtrtri\n",
        "from functools import partial\n",
        "\n",
        "rng = np.random.default_rng()"
      ],
      "id": "6ea53f75"
    },
    {
      "cell_type": "code",
      "execution_count": 2,
      "metadata": {},
      "outputs": [],
      "source": [
        "def f(x):\n",
        "    # TODO\n",
        "    return\n",
        "\n",
        "# TODO\n",
        "x = \n",
        "fx = \n",
        "y = "
      ],
      "id": "31f1fa46"
    },
    {
      "cell_type": "code",
      "execution_count": 3,
      "metadata": {},
      "outputs": [],
      "source": [
        "fig, ax = plt.subplots(figsize=(12, 6), dpi=144)\n",
        "ax.plot(x, y, lw=0.8, alpha=0.8)\n",
        "plt.show()"
      ],
      "id": "87c38ee9"
    },
    {
      "cell_type": "markdown",
      "metadata": {},
      "source": [
        "1.  Írj függvényt, amely kiszámolja egy predikció $R^2$ hibáját![1]\n",
        "\n",
        "[1] [Wikipedia: Coefficient of\n",
        "determination](https://en.wikipedia.org/wiki/Coefficient_of_determination#:~:text=%5B9%5D-,Definitions,-%5Bedit%5D)"
      ],
      "id": "53405f0b-5c7d-4e18-94d2-a4bc8a21a876"
    },
    {
      "cell_type": "code",
      "execution_count": 4,
      "metadata": {},
      "outputs": [],
      "source": [
        "def r2_score(y_true, y_pred):\n",
        "    # TODO\n",
        "    return"
      ],
      "id": "42886d31"
    },
    {
      "cell_type": "markdown",
      "metadata": {},
      "source": [
        "1.  Illeszünk egyenest a mintára!\n",
        "\n",
        "Keressük az egyenest $mx + b$ alakban úgy, hogy minimalizáljuk a\n",
        "$\\sum_{i=1}^n (y_i - (mx_i + b))^2$ négyzetes hibát.\n",
        "\n",
        "Ezt a következőképpen tehetjük meg: legyen\n",
        "$A = [x^T, \\mathbb{1}^T] \\in \\mathbb{R}^{n\\times 2}$ mátrix, ahol\n",
        "$x=(x_1, \\ldots, x_n)$ és $\\mathbb{1}$ $n$ hosszú, csupa egyesből álló\n",
        "vektor. Ekkor: $$[m, b] = (A^TA)^{-1}A^Ty$$\n",
        "\n",
        "`numpy` segítségével definiáld az `A` mátrixot, illetve határozd meg `m`\n",
        "és `b` értékét (írasd is ki). Ábrázold a kapott eredményt, illetve\n",
        "számold ki a modell $R^2$ hibáját."
      ],
      "id": "cf9d16d7-a3f3-4e64-8004-428b527ee7ae"
    },
    {
      "cell_type": "code",
      "execution_count": 5,
      "metadata": {},
      "outputs": [],
      "source": [
        "# TODO\n",
        "\n",
        "[m, b] = \n",
        "print(f\"m = {m:.5f}\\nb = {b:.5f}\")"
      ],
      "id": "36e65165"
    },
    {
      "cell_type": "code",
      "execution_count": 6,
      "metadata": {},
      "outputs": [],
      "source": [
        "def f_hat_1(x):\n",
        "    return m * x + b\n",
        "\n",
        "\n",
        "y_hat_1 = f_hat_1(x)\n",
        "print(f\"R^2 error: {r2_score(y, y_hat_1):.5f}\")\n",
        "fig, ax = plt.subplots(figsize=(12, 6), dpi=144)\n",
        "ax.plot(x, y, lw=0.8, alpha=0.8)\n",
        "ax.plot(x, y_hat_1, label=\"egyenes\")\n",
        "ax.legend()\n",
        "plt.show()"
      ],
      "id": "c1b89fde"
    },
    {
      "cell_type": "markdown",
      "metadata": {},
      "source": [
        "1.  Polinomiális regresszió\n",
        "\n",
        "Az alábbi kódrészlet segítségével könnyen elő tudod állítani az előadás\n",
        "szerinti $\\Phi$ mátrixot, mindössze az $f_i$ bázisfüggvényeket kell\n",
        "definiálnod. Egészítsd ki az alábbi kódrészletet úgy, hogy a\n",
        "modellosztályunk a legfeljebb 10-edfokú polinomtér legyen."
      ],
      "id": "3bbf8554-a97a-4d9e-b3c1-1233923e840a"
    },
    {
      "cell_type": "code",
      "execution_count": 7,
      "metadata": {},
      "outputs": [],
      "source": [
        "class PhiCalculator:\n",
        "    def __init__(self, basis_functions):\n",
        "        self.basis_functions = basis_functions\n",
        "\n",
        "    def __call__(self, x):\n",
        "        return np.column_stack([f(np.asarray(x)) for f in self.basis_functions])\n",
        "\n",
        "\n",
        "def f_i(x, i, d):\n",
        "    # TODO\n",
        "    return\n",
        "\n",
        "\n",
        "d = 10\n",
        "basis_functions = [partial(f_i, i=i + 1, d=d) for i in range(d)]\n",
        "Phi = PhiCalculator(basis_functions)(x)\n",
        "\n",
        "print(f\"Shape of Phi (should be n×d): {Phi.shape}\")"
      ],
      "id": "df6fce51"
    },
    {
      "cell_type": "markdown",
      "metadata": {},
      "source": [
        "Az előadáson tanultak alapján (QR-felbontás segítségével) határozd meg a\n",
        "$\\theta$ vektort, azaz a báziselemekhez tartozó együtthatókat.\n",
        "\n",
        "*Használd ki,* hogy mindezt azért csináltuk, mivel az $R$ inverzét\n",
        "gyorsan ki tudjuk számolni. Ehhez használd a `dtrtri` függvényt a\n",
        "`scipy.linalg.lapack` könyvtárból."
      ],
      "id": "0a037824-ecad-4098-bd01-38c01d1bcc48"
    },
    {
      "cell_type": "code",
      "execution_count": 8,
      "metadata": {},
      "outputs": [],
      "source": [
        "# TODO\n",
        "theta ="
      ],
      "id": "b7836a4b"
    },
    {
      "cell_type": "markdown",
      "metadata": {},
      "source": [
        "Ábrázold a kapott eredményt, illetve számold ki a modell $R^2$ hibáját."
      ],
      "id": "263e4680-6647-4356-b48c-5fd289070776"
    },
    {
      "cell_type": "code",
      "execution_count": 9,
      "metadata": {},
      "outputs": [],
      "source": [
        "def f_hat_2(x):\n",
        "    return Phi @ theta\n",
        "\n",
        "\n",
        "y_hat_2 = f_hat_2(x)\n",
        "print(f\"R^2 error: {r2_score(y, y_hat_2):.5f}\")\n",
        "fig, ax = plt.subplots(figsize=(12, 6), dpi=144)\n",
        "ax.plot(x, y, lw=0.8, alpha=0.8)\n",
        "ax.plot(x, y_hat_1, label=\"egyenes\")\n",
        "ax.plot(x, y_hat_2, label=\"polinom\")\n",
        "ax.legend()\n",
        "plt.show()"
      ],
      "id": "114dd0f8"
    },
    {
      "cell_type": "markdown",
      "metadata": {},
      "source": [
        "1.  Gauss\n",
        "\n",
        "A korábbi (polinomiális) bázisfüggvények helyett most használjunk\n",
        "Gauss-függvényeket, azaz legyen\n",
        "$$f_i(x) = \\exp\\left(\\dfrac{-||x-\\mu_i||^2}{\\sigma_i^2}\\right)$$\n",
        "\n",
        "Legyen pl. $\\mu_i = (i-1)/(d-1)$ és $\\sigma_i = 2$.\n",
        "\n",
        "(Ügyelj arra, hogy ez az általános képlet $x\\in\\mathbb{R}^k$-ra\n",
        "vonatkozik. Ha közvetlenül ilyen formában szeretnéd `numpy`-jal\n",
        "implementálni ezt, könnyen problémád adódhat a dimenziókkal. Egy\n",
        "dimenzióban ez egyszerűbben is felírható.)"
      ],
      "id": "67ae5968-49ae-4800-b5a8-f56a41e6a07e"
    },
    {
      "cell_type": "code",
      "execution_count": 10,
      "metadata": {},
      "outputs": [],
      "source": [
        "def f_i_gauss(x, i, d):\n",
        "    # TODO\n",
        "    return\n",
        "\n",
        "d = 10\n",
        "basis_functions = [partial(f_i_gauss, i=i + 1, d=d) for i in range(d)]\n",
        "Phi_gauss = PhiCalculator(basis_functions)(x)\n",
        "print(f\"Shape of Phi (should be n×d): {Phi_gauss.shape}\")"
      ],
      "id": "48021dca"
    },
    {
      "cell_type": "code",
      "execution_count": 11,
      "metadata": {},
      "outputs": [],
      "source": [
        "# TODO\n",
        "theta_gauss ="
      ],
      "id": "825e5f2b"
    },
    {
      "cell_type": "code",
      "execution_count": 12,
      "metadata": {},
      "outputs": [],
      "source": [
        "def f_hat_3(x):\n",
        "    return Phi_gauss @ theta_gauss\n",
        "\n",
        "\n",
        "y_hat_3 = f_hat_3(x)\n",
        "print(f\"R^2 error: {r2_score(y, y_hat_3):.5f}\")\n",
        "fig, ax = plt.subplots(figsize=(12, 6), dpi=144)\n",
        "ax.plot(x, y, lw=0.8, alpha=0.8)\n",
        "ax.plot(x, y_hat_1, label=\"egyenes\")\n",
        "ax.plot(x, y_hat_2, label=\"polinom\")\n",
        "ax.plot(x, y_hat_3, label=\"Gauss\")\n",
        "ax.legend()\n",
        "plt.show()"
      ],
      "id": "3f83c1d1"
    }
  ],
  "nbformat": 4,
  "nbformat_minor": 5,
  "metadata": {
    "kernelspec": {
      "name": "python3",
      "display_name": "Python 3 (ipykernel)",
      "language": "python",
      "path": "/home/runner/work/dmml-web/dmml-web/.venv/share/jupyter/kernels/python3"
    },
    "language_info": {
      "name": "python",
      "codemirror_mode": {
        "name": "ipython",
        "version": "3"
      },
      "file_extension": ".py",
      "mimetype": "text/x-python",
      "nbconvert_exporter": "python",
      "pygments_lexer": "ipython3",
      "version": "3.13.8"
    }
  }
}