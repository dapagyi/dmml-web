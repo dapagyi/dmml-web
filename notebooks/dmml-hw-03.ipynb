{
  "cells": [
    {
      "cell_type": "markdown",
      "metadata": {},
      "source": [
        "# DMML-HW-03\n",
        "\n",
        "<strong>Honlap:</strong>\n",
        "<a href=\"https://apagyidavid.web.elte.hu/2025-2026-1/dmml\"\n",
        "target=\"_blank\">apagyidavid.web.elte.hu/2025-2026-1/dmml</a>\n",
        "\n",
        "<a target=\"_blank\" href=\"https://colab.research.google.com/github/dapagyi/dmml-web/blob/gh-pages/notebooks/dmml-hw-03.ipynb\"><img src=\"https://colab.research.google.com/assets/colab-badge.svg\" alt=\"Open In Colab\"/></a>\n",
        "\n",
        "# Egyszerű modelltanítás\n",
        "\n",
        "Tanítsunk egy egyszerű modellt a Spaceship Titanic adathalmazon: a\n",
        "feladat az, hogy megjósoljuk, egy utast átszállítottak-e másik\n",
        "dimenzióba egy baleset során.\n",
        "\n",
        "> **Exploratory Data Analysis (EDA)**\n",
        ">\n",
        "> Normál esetben az EDA mindig megelőzi a modelltanítást. Ennek a\n",
        "> feladatnak azonban most az a célja, hogy minél előbb kipróbáljuk az\n",
        "> órán tanultakat (encoding, keresztvalidálás,\n",
        "> hiperparaméter-optimalizálás).\n",
        ">\n",
        "> Ettől függetlenül természetesen szükséges már valamennyire körüljárni\n",
        "> az adathalmazt: bizonyos információkra szükség lehet az\n",
        "> adatelőkészítés, illetve modellezés során is, de a később határidős\n",
        "> házi feladatnál, illetve a háziversenynél is kelleni fog.\n",
        ">\n",
        "> Úgy érdemes tehát ehhez és a következő feladathoz hozzáállni, hogy\n",
        "> most még csak *gyorsan* dolgozunk, a következő feladatnál pedig\n",
        "> *okosan* fogunk majd – ennek a megoldásnak a továbbfejlesztésével.\n",
        "\n",
        "A feladat részei:\n",
        "\n",
        "-   Ismerkedj meg az adathalmazzal, vizsgáld meg a legszembetűnőbb\n",
        "    jellemzőit.\n",
        "-   Készítsd elő az adatot, amelyik oszlopból származó információra\n",
        "    szükség lehet a modellben, azt encode-old valami alkalmas módon,\n",
        "    stb.\n",
        "-   Taníts egy döntési fát a tanító adathalmazon, ehhez:\n",
        "    -   használj keresztvalidációt a modell kiértékelésére, illetve\n",
        "    -   végezz hiperparaméter-optimalizálást.\n",
        "-   Értékeld ki a modellt a teszt adathalmazon.\n",
        "\n",
        "A hiperparaméter-optimalizáláshoz egyaránt próbáld ki a `GridSearchCV`-t\n",
        "és a `RandomizedSearchCV`-t is. Utóbbinál ne csak felsorold a lehetséges\n",
        "értékeket, hanem adj meg mintavételezési eloszlásokat is a `scipy`\n",
        "csomag `scipy.stats.uniform` vagy `scipy.stats.loguniform` függvényeinek\n",
        "használatával.\n",
        "\n",
        "A keresztvalidálás során ügyelj arra, hogy a tanító és a validációs\n",
        "halmazban hasonló legyen a célváltozó eloszlása: ehhez a megfelelő\n",
        "kulcsszó, amire keresned kell, az a `stratify` vagy `stratified`.\n",
        "Próbálj meg olyan keresztvalidációs módszert használni, aminek szerinted\n",
        "passzol az adathalmazhoz. Ehhez\n",
        "<a href=\"https://scikit-learn.org/stable/modules/cross_validation.html\"\n",
        "target=\"_blank\">ezen az oldalon</a> találsz segítséget.\n",
        "\n",
        "> **Megjegyzés**\n",
        ">\n",
        "> A feladat hangsúlyos része a modelltanítás, ideértve a\n",
        "> keresztvalidálást és a hiperparaméter-optimalizálást. *Ennél a\n",
        "> feladatnál* nem baj, ha csak néhány oszlopot használsz fel, de a\n",
        "> következő feladatnál már alaposan körül kell majd járni az\n",
        "> adathalmazt.\n",
        ">\n",
        "> Épp ezért nyugodtan törekedhetsz akár már most is a minél alaposabb\n",
        "> megoldásra, de ráérsz akár majd csak a következő feladatnál is.\n",
        "\n",
        "## Adatok elérése és predikció beküldése\n",
        "\n",
        "Először telepítsük a `dmml-contest` csomagot\n",
        "\n",
        "-   *terminalban* használjuk a `pip install dmml-contest` parancsot vagy\n",
        "-   *Jupyter Notebookban* írjuk be ugyanezt egy cellába, de a cella\n",
        "    elejére tegyünk egy felkiáltójelet:"
      ],
      "id": "e02955f9-8dad-4905-b45a-928b1e72b7cf"
    },
    {
      "cell_type": "code",
      "execution_count": 1,
      "metadata": {},
      "outputs": [],
      "source": [
        "!pip install dmml-contest"
      ],
      "id": "aa85c615"
    },
    {
      "cell_type": "markdown",
      "metadata": {},
      "source": [
        "A tanító és a teszt adathalmazt a következőképpen érjük el:"
      ],
      "id": "5d558f51-f315-46e8-b2d3-07d9182a26e2"
    },
    {
      "cell_type": "code",
      "execution_count": 2,
      "metadata": {},
      "outputs": [
        {
          "output_type": "stream",
          "name": "stdout",
          "text": [
            "Hello, Apagyi Dávid (david)!\n",
            "Welcome to the following contest: DMML 2025-09-25\n",
            "(7389, 14)\n",
            "(1304, 13)"
          ]
        },
        {
          "output_type": "display_data",
          "metadata": {},
          "data": {
            "text/html": [
              "\n",
              "</div>"
            ]
          }
        }
      ],
      "source": [
        "from dmml_contest.contest import Contest\n",
        "\n",
        "\n",
        "contest = Contest(\n",
        "    display_name=\"david\",  # This can be anything in case you don't want to use your real name on the leaderboard.\n",
        "    user_key=\"david123\",  # Replace with your actual user_key.\n",
        "    contest_id=\"dmml-2025-09-25\",  # Don't change this.\n",
        "    contest_api_url=\"https://dmml.dapagyi.dedyn.io\",  # Don't change this.\n",
        ")\n",
        "train_data = contest.fetch_train_data()\n",
        "test_data = contest.fetch_test_data()\n",
        "print(train_data.shape)\n",
        "print(test_data.shape)\n",
        "\n",
        "train_data.head()"
      ],
      "id": "7afb693a"
    },
    {
      "cell_type": "markdown",
      "metadata": {},
      "source": [
        "> **Kulcs**\n",
        ">\n",
        "> Ha nincs meg a `user_key`-ed, írj, és átküldöm.\n",
        "\n",
        "A predikciók beküldéséhez gyűjtsük össze egyetlen listába (`list`) vagy\n",
        "NumPy tömbbe (`numpy.array`) a modell eredményét. Figyeljünk arra, hogy\n",
        "a predikciók sorrendje megegyezzen a `test_data` adathalmazban szereplő\n",
        "sorok sorrendjével, és csak 0 vagy 1 értékeket tartalmazzon, ahol 1\n",
        "jelöli azt, hogy átszállították másik dimenzióba az utast.\n",
        "\n",
        "Az alábbi példa azt szemlélteti, hogy ha az lenne a predikciónk, hogy\n",
        "mindegyik utast átszállítjuk, akkor ezt hogyan tudjuk beküldeni:"
      ],
      "id": "52f43263-d56a-474a-8632-d0d409a2fbbd"
    },
    {
      "cell_type": "code",
      "execution_count": 3,
      "metadata": {},
      "outputs": [
        {
          "output_type": "stream",
          "name": "stdout",
          "text": [
            "Submission response: {'score': 0.6700662927078022}"
          ]
        }
      ],
      "source": [
        "import numpy as np\n",
        "\n",
        "\n",
        "sample_submission = np.ones(len(test_data))\n",
        "response = contest.submit_prediction(sample_submission)\n",
        "print(\"Submission response:\", response)"
      ],
      "id": "3a8ea6a7"
    },
    {
      "cell_type": "markdown",
      "metadata": {},
      "source": [
        "F1-score a metrika, ami szerint értékelünk, a `submit_prediction` ezt\n",
        "adja vissza.\n",
        "\n",
        "Az elért eredményünk <a\n",
        "href=\"https://apagyidavid.web.elte.hu/2025-2026-1/dmml/leaderboard?contest_id=dmml-2025-09-25\"\n",
        "target=\"_blank\">ezen az oldalon is</a> megjelenik.\n",
        "\n",
        "## Adathalmaz leírása\n",
        "\n",
        "In this competition your task is to predict whether a passenger was\n",
        "transported to an alternate dimension during the Spaceship Titanic’s\n",
        "collision with the spacetime anomaly. To help you make these\n",
        "predictions, you’re given a set of personal records recovered from the\n",
        "ship’s damaged computer system.\n",
        "\n",
        "File and Data Field Descriptions:\n",
        "\n",
        "-   train.csv - Personal records for about 90% of the passengers, to be\n",
        "    used as training data.\n",
        "    -   PassengerId - A unique Id for each passenger. Each Id takes the\n",
        "        form gggg_pp where gggg indicates a group the passenger is\n",
        "        travelling with and pp is their number within the group. People\n",
        "        in a group are often family members, but not always.\n",
        "    -   HomePlanet - The planet the passenger departed from, typically\n",
        "        their planet of permanent residence.\n",
        "    -   CryoSleep - Indicates whether the passenger elected to be put\n",
        "        into suspended animation for the duration of the voyage.\n",
        "        Passengers in cryosleep are confined to their cabins.\n",
        "    -   Cabin - The cabin number where the passenger is staying. Takes\n",
        "        the form deck/num/side, where side can be either P for Port or S\n",
        "        for Starboard.\n",
        "    -   Destination - The planet the passenger will be debarking to.\n",
        "    -   Age - The age of the passenger.\n",
        "    -   VIP - Whether the passenger has paid for special VIP service\n",
        "        during the voyage.\n",
        "    -   RoomService, FoodCourt, ShoppingMall, Spa, VRDeck - Amount the\n",
        "        passenger has billed at each of the Spaceship Titanic’s many\n",
        "        luxury amenities.\n",
        "    -   Name - The first and last names of the passenger.\n",
        "    -   Transported - Whether the passenger was transported to another\n",
        "        dimension. This is the target, the column you are trying to\n",
        "        predict.\n",
        "-   test.csv - Personal records for the remaining one-tenth of the\n",
        "    passengers, to be used as test data. Your task is to predict the\n",
        "    value of Transported for the passengers in this set."
      ],
      "id": "dcb78740-037c-4987-824b-f25c192886a2"
    }
  ],
  "nbformat": 4,
  "nbformat_minor": 5,
  "metadata": {
    "kernelspec": {
      "name": "python3",
      "display_name": "Python 3 (ipykernel)",
      "language": "python",
      "path": "/home/runner/work/dmml-web/dmml-web/.venv/share/jupyter/kernels/python3"
    },
    "language_info": {
      "name": "python",
      "codemirror_mode": {
        "name": "ipython",
        "version": "3"
      },
      "file_extension": ".py",
      "mimetype": "text/x-python",
      "nbconvert_exporter": "python",
      "pygments_lexer": "ipython3",
      "version": "3.13.8"
    }
  }
}