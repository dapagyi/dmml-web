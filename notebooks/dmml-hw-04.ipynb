{
  "cells": [
    {
      "cell_type": "markdown",
      "metadata": {},
      "source": [
        "# DMML-HW-04\n",
        "\n",
        "<strong>Honlap:</strong>\n",
        "<a href=\"https://apagyidavid.web.elte.hu/2025-2026-1/dmml\"\n",
        "target=\"_blank\">apagyidavid.web.elte.hu/2025-2026-1/dmml</a>\n",
        "\n",
        "<a target=\"_blank\" href=\"https://colab.research.google.com/github/dapagyi/dmml-web/blob/gh-pages/notebooks/dmml-hw-04.ipynb\"><img src=\"https://colab.research.google.com/assets/colab-badge.svg\" alt=\"Open In Colab\"/></a>\n",
        "\n",
        "# Spaceship Titanic\n",
        "\n",
        "Lásd az előző feladatot.\n",
        "\n",
        "Járd körül teljeskörűen a Spaceship Titanic adathalmazt, végezz alapos\n",
        "EDA-t (értsd meg minél jobban az adathalmazban lévő mintázatokat,\n",
        "használj vizualizációs technikákat, keress összefüggéseket) és készíts\n",
        "egy minél jobb modellt a célváltozó (Transported) előrejelzésére.\n",
        "\n",
        "Próbálj meg minél jobb eredményt elérni a teszt adathalmazon\n",
        "előfeldolgozás, encoding, imputing stb. használatával.\n",
        "\n",
        "Turbózd fel a HF/3-as megoldásodat. Végezz EDA-t, készíts plotokat,\n",
        "ellenőrizd a változók eloszlását, hiányzó értékeket – foglalkozz a\n",
        "pótlásukkal –, outliereket, stb. Próbálj ki már összetettebb modelleket\n",
        "is. A cél az, hogy tulajdonképpen egy egész kis miniprojekt kerekedjen\n",
        "ki ebből."
      ],
      "id": "6ce39041-cb40-4bd9-886e-0e5c6e85545f"
    }
  ],
  "nbformat": 4,
  "nbformat_minor": 5,
  "metadata": {
    "kernelspec": {
      "name": "python3",
      "display_name": "Python 3 (ipykernel)",
      "language": "python",
      "path": "/home/runner/work/dmml-web/dmml-web/.venv/share/jupyter/kernels/python3"
    },
    "language_info": {
      "name": "python",
      "codemirror_mode": {
        "name": "ipython",
        "version": "3"
      },
      "file_extension": ".py",
      "mimetype": "text/x-python",
      "nbconvert_exporter": "python",
      "pygments_lexer": "ipython3",
      "version": "3.13.8"
    }
  }
}