{
  "cells": [
    {
      "cell_type": "markdown",
      "metadata": {},
      "source": [
        "# DMML-HW-06\n",
        "\n",
        "<strong>Honlap:</strong>\n",
        "<a href=\"https://apagyidavid.web.elte.hu/2025-2026-1/dmml\"\n",
        "target=\"_blank\">apagyidavid.web.elte.hu/2025-2026-1/dmml</a>\n",
        "\n",
        "<a target=\"_blank\" href=\"https://colab.research.google.com/github/dapagyi/dmml-web/blob/gh-pages/notebooks/dmml-hw-05.ipynb\"><img src=\"https://colab.research.google.com/assets/colab-badge.svg\" alt=\"Open In Colab\"/></a>\n",
        "\n",
        "# Infografika\n",
        "\n",
        "Keress az interneten 5-10 adatvizualizációt, infografikát amelyeket\n",
        "érdekesnek találsz. Mindegyikről írj egy-egy mondatot vagy egy\n",
        "felsorolást arról, hogy szerinted mitől jó az adott ábra.\n",
        "\n",
        "Külön örülök, ha olyat is találsz, ami a saját érdeklődési körödbe vág,\n",
        "akár pl. sport, zene stb.\n",
        "\n",
        "Gazdasági témájú újságok oldalain gyakran találni érdekes\n",
        "infografikákat, mára egészen komoly szintre nőtte ki magát az\n",
        "adatújságírás (data journalism). De bárhol kereshetsz, social mediában,\n",
        "tematikus fórumokon, Redditen stb.\n",
        "\n",
        "Az ábrákat illeszd be <a\n",
        "href=\"https://docs.google.com/spreadsheets/d/1lN8sHxded2Jn1AVhRYO4pJt3BctQUh7mmhpGdhKam3w/edit?gid=0#gid=0\"\n",
        "target=\"_blank\">ebbe a megosztott Google Sheetsbe is</a>. A\n",
        "megállapításokat, ha nem szeretnéd publikusan, elég a beadott munkába\n",
        "beillesztened, nem kell a Google Sheetsbe is.\n",
        "\n",
        "Alapvetően olyan ábrákat keress, amelyekből remélhetőleg tudunk tanulni\n",
        "valamit – szóval lehetőleg ne valami 3D-s nagyon összetett interaktív JS\n",
        "oldal legyen, hanem valami egyszerű elemekből felépített, de esztétikus,\n",
        "és valamiért érdekes ábra; vagy valami ami bonyolult összefüggéseket\n",
        "frappáns módon közvetít; vagy olyan, ami egyszerű design elemekkel ér el\n",
        "valami hatást."
      ],
      "id": "fccb8a6b-8812-4289-bd84-59824840c3ee"
    }
  ],
  "nbformat": 4,
  "nbformat_minor": 5,
  "metadata": {
    "kernelspec": {
      "display_name": "Python 3",
      "language": "python",
      "name": "python3"
    }
  }
}